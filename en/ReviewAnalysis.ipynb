{
 "cells": [
  {
   "cell_type": "markdown",
   "id": "82039966-2a39-4d38-be02-bd7edf8c4d78",
   "metadata": {},
   "source": [
    "## Review Analysis\n",
    "\n",
    "In this demonstraton, we will explore feedback on Moscow railway stations that users left on Yandex Maps.\n",
    "\n",
    "We will first show how to use a model from HuggingFace, so you may want to use GPU-enabled compute in the Datasphere.\n",
    "\n",
    "First, let's install some libraries:"
   ]
  },
  {
   "cell_type": "code",
   "execution_count": null,
   "id": "60269348-9f26-4e95-a8ce-527ab6c58048",
   "metadata": {
    "execution": {
     "iopub.execute_input": "2025-03-04T17:01:18.139233Z",
     "iopub.status.busy": "2025-03-04T17:01:18.138537Z"
    },
    "tags": []
   },
   "outputs": [
    {
     "name": "stdout",
     "output_type": "stream",
     "text": [
      "Defaulting to user installation because normal site-packages is not writeable\n",
      "Collecting transformers\n",
      "  Downloading transformers-4.49.0-py3-none-any.whl.metadata (44 kB)\n",
      "Collecting yandex-cloud-ml-sdk\n",
      "  Downloading yandex_cloud_ml_sdk-0.4.1-py3-none-any.whl.metadata (4.1 kB)\n",
      "Requirement already satisfied: filelock in /usr/local/lib/python3.10/dist-packages (from transformers) (3.12.2)\n",
      "Requirement already satisfied: huggingface-hub<1.0,>=0.26.0 in /home/jupyter/.local/lib/python3.10/site-packages (from transformers) (0.29.1)\n",
      "Requirement already satisfied: numpy>=1.17 in /usr/local/lib/python3.10/dist-packages (from transformers) (1.22.4)\n",
      "Requirement already satisfied: packaging>=20.0 in /usr/local/lib/python3.10/dist-packages (from transformers) (23.1)\n",
      "Requirement already satisfied: pyyaml>=5.1 in /usr/local/lib/python3.10/dist-packages (from transformers) (6.0.1)\n",
      "Requirement already satisfied: regex!=2019.12.17 in /usr/local/lib/python3.10/dist-packages (from transformers) (2022.10.31)\n",
      "Requirement already satisfied: requests in /home/jupyter/.local/lib/python3.10/site-packages (from transformers) (2.32.3)\n",
      "Collecting tokenizers<0.22,>=0.21 (from transformers)\n",
      "  Downloading tokenizers-0.21.0-cp39-abi3-manylinux_2_17_x86_64.manylinux2014_x86_64.whl.metadata (6.7 kB)\n",
      "Requirement already satisfied: safetensors>=0.4.1 in /home/jupyter/.local/lib/python3.10/site-packages (from transformers) (0.5.3)\n",
      "Requirement already satisfied: tqdm>=4.27 in /usr/local/lib/python3.10/dist-packages (from transformers) (4.65.0)\n",
      "Requirement already satisfied: yandexcloud>=0.334.0 in /home/jupyter/.local/lib/python3.10/site-packages (from yandex-cloud-ml-sdk) (0.335.0)\n",
      "Requirement already satisfied: grpcio>=1.70.0 in /home/jupyter/.local/lib/python3.10/site-packages (from yandex-cloud-ml-sdk) (1.70.0)\n",
      "Requirement already satisfied: get-annotations in /home/jupyter/.local/lib/python3.10/site-packages (from yandex-cloud-ml-sdk) (0.1.2)\n",
      "Collecting httpx<1,>=0.27 (from yandex-cloud-ml-sdk)\n",
      "  Downloading httpx-0.28.1-py3-none-any.whl.metadata (7.1 kB)\n",
      "Requirement already satisfied: typing-extensions>=4 in /usr/local/lib/python3.10/dist-packages (from yandex-cloud-ml-sdk) (4.7.1)\n",
      "Requirement already satisfied: aiofiles>=24.1.0 in /home/jupyter/.local/lib/python3.10/site-packages (from yandex-cloud-ml-sdk) (24.1.0)\n",
      "Requirement already satisfied: anyio in /usr/local/lib/python3.10/dist-packages (from httpx<1,>=0.27->yandex-cloud-ml-sdk) (3.7.1)\n",
      "Requirement already satisfied: certifi in /usr/local/lib/python3.10/dist-packages (from httpx<1,>=0.27->yandex-cloud-ml-sdk) (2023.7.22)\n",
      "Requirement already satisfied: httpcore==1.* in /home/jupyter/.local/lib/python3.10/site-packages (from httpx<1,>=0.27->yandex-cloud-ml-sdk) (1.0.7)\n",
      "Requirement already satisfied: idna in /usr/local/lib/python3.10/dist-packages (from httpx<1,>=0.27->yandex-cloud-ml-sdk) (3.4)\n",
      "Requirement already satisfied: h11<0.15,>=0.13 in /home/jupyter/.local/lib/python3.10/site-packages (from httpcore==1.*->httpx<1,>=0.27->yandex-cloud-ml-sdk) (0.14.0)\n",
      "Requirement already satisfied: fsspec>=2023.5.0 in /usr/local/lib/python3.10/dist-packages (from huggingface-hub<1.0,>=0.26.0->transformers) (2023.6.0)\n",
      "Requirement already satisfied: cryptography>=44.0.0 in /home/jupyter/.local/lib/python3.10/site-packages (from yandexcloud>=0.334.0->yandex-cloud-ml-sdk) (44.0.2)\n",
      "Requirement already satisfied: protobuf<6,>=5.29.1 in /home/jupyter/.local/lib/python3.10/site-packages (from yandexcloud>=0.334.0->yandex-cloud-ml-sdk) (5.29.3)\n",
      "Requirement already satisfied: googleapis-common-protos<2,>=1.66.0 in /home/jupyter/.local/lib/python3.10/site-packages (from yandexcloud>=0.334.0->yandex-cloud-ml-sdk) (1.69.0)\n",
      "Requirement already satisfied: pyjwt<3,>=2.10.1 in /home/jupyter/.local/lib/python3.10/site-packages (from yandexcloud>=0.334.0->yandex-cloud-ml-sdk) (2.10.1)\n",
      "Requirement already satisfied: six<2,>=1.17.0 in /home/jupyter/.local/lib/python3.10/site-packages (from yandexcloud>=0.334.0->yandex-cloud-ml-sdk) (1.17.0)\n",
      "Requirement already satisfied: grpcio-tools>=1.68.1 in /home/jupyter/.local/lib/python3.10/site-packages (from yandexcloud>=0.334.0->yandex-cloud-ml-sdk) (1.70.0)\n",
      "Requirement already satisfied: deprecated>=1.2.18 in /home/jupyter/.local/lib/python3.10/site-packages (from yandexcloud>=0.334.0->yandex-cloud-ml-sdk) (1.2.18)\n",
      "Requirement already satisfied: charset-normalizer<4,>=2 in /usr/local/lib/python3.10/dist-packages (from requests->transformers) (2.0.12)\n",
      "Requirement already satisfied: urllib3<3,>=1.21.1 in /usr/local/lib/python3.10/dist-packages (from requests->transformers) (1.26.16)\n",
      "Requirement already satisfied: cffi>=1.12 in /usr/local/lib/python3.10/dist-packages (from cryptography>=44.0.0->yandexcloud>=0.334.0->yandex-cloud-ml-sdk) (1.15.1)\n",
      "Requirement already satisfied: wrapt<2,>=1.10 in /usr/local/lib/python3.10/dist-packages (from deprecated>=1.2.18->yandexcloud>=0.334.0->yandex-cloud-ml-sdk) (1.14.1)\n",
      "Requirement already satisfied: setuptools in /kernel/lib/python3.10/site-packages (from grpcio-tools>=1.68.1->yandexcloud>=0.334.0->yandex-cloud-ml-sdk) (65.5.0)\n",
      "Requirement already satisfied: sniffio>=1.1 in /usr/local/lib/python3.10/dist-packages (from anyio->httpx<1,>=0.27->yandex-cloud-ml-sdk) (1.3.0)\n",
      "Requirement already satisfied: exceptiongroup in /usr/local/lib/python3.10/dist-packages (from anyio->httpx<1,>=0.27->yandex-cloud-ml-sdk) (1.1.2)\n",
      "Requirement already satisfied: pycparser in /usr/local/lib/python3.10/dist-packages (from cffi>=1.12->cryptography>=44.0.0->yandexcloud>=0.334.0->yandex-cloud-ml-sdk) (2.21)\n",
      "Downloading transformers-4.49.0-py3-none-any.whl (10.0 MB)\n",
      "\u001b[2K   \u001b[90m━━━━━━━━━━━━━━━━━━━━━━━━━━━━━━━━━━━━━━━━\u001b[0m \u001b[32m10.0/10.0 MB\u001b[0m \u001b[31m44.5 MB/s\u001b[0m eta \u001b[36m0:00:00\u001b[0m00:01\u001b[0m\n",
      "\u001b[?25hDownloading yandex_cloud_ml_sdk-0.4.1-py3-none-any.whl (116 kB)\n",
      "Downloading httpx-0.28.1-py3-none-any.whl (73 kB)\n",
      "Downloading tokenizers-0.21.0-cp39-abi3-manylinux_2_17_x86_64.manylinux2014_x86_64.whl (3.0 MB)\n",
      "\u001b[2K   \u001b[90m━━━━━━━━━━━━━━━━━━━━━━━━━━━━━━━━━━━━━━━━\u001b[0m \u001b[32m3.0/3.0 MB\u001b[0m \u001b[31m67.1 MB/s\u001b[0m eta \u001b[36m0:00:00\u001b[0m\n",
      "\u001b[?25hInstalling collected packages: httpx, tokenizers, yandex-cloud-ml-sdk, transformers\n",
      "\u001b[33m  WARNING: The script httpx is installed in '/home/jupyter/.local/bin' which is not on PATH.\n",
      "  Consider adding this directory to PATH or, if you prefer to suppress this warning, use --no-warn-script-location.\u001b[0m\u001b[33m\n",
      "\u001b[0m"
     ]
    }
   ],
   "source": [
    "%pip install transformers yandex-cloud-ml-sdk"
   ]
  },
  {
   "cell_type": "markdown",
   "id": "43ece969-ad86-4960-8d11-2b16156fc2d9",
   "metadata": {},
   "source": [
    "### Getting the Dataset\n",
    "\n",
    "We will donwload the dataset with reviews translated into English:"
   ]
  },
  {
   "cell_type": "code",
   "execution_count": 1,
   "id": "ad19da35-bf4b-4c5b-b8dc-cca6e7cb3e9f",
   "metadata": {
    "execution": {
     "iopub.execute_input": "2025-07-12T09:51:45.081862Z",
     "iopub.status.busy": "2025-07-12T09:51:45.080178Z",
     "iopub.status.idle": "2025-07-12T09:51:45.792803Z",
     "shell.execute_reply": "2025-07-12T09:51:45.791835Z",
     "shell.execute_reply.started": "2025-07-12T09:51:45.081808Z"
    },
    "tags": []
   },
   "outputs": [
    {
     "data": {
      "text/html": [
       "<div>\n",
       "<style scoped>\n",
       "    .dataframe tbody tr th:only-of-type {\n",
       "        vertical-align: middle;\n",
       "    }\n",
       "\n",
       "    .dataframe tbody tr th {\n",
       "        vertical-align: top;\n",
       "    }\n",
       "\n",
       "    .dataframe thead th {\n",
       "        text-align: right;\n",
       "    }\n",
       "</style>\n",
       "<table border=\"1\" class=\"dataframe\">\n",
       "  <thead>\n",
       "    <tr style=\"text-align: right;\">\n",
       "      <th></th>\n",
       "      <th>id</th>\n",
       "      <th>dislike</th>\n",
       "      <th>like</th>\n",
       "      <th>review_text</th>\n",
       "      <th>author</th>\n",
       "      <th>review_rating</th>\n",
       "      <th>datetime</th>\n",
       "      <th>station</th>\n",
       "    </tr>\n",
       "  </thead>\n",
       "  <tbody>\n",
       "    <tr>\n",
       "      <th>0</th>\n",
       "      <td>1251</td>\n",
       "      <td>1</td>\n",
       "      <td>10</td>\n",
       "      <td>It's a very beautiful place, and the staff are...</td>\n",
       "      <td>Александра Подгайская</td>\n",
       "      <td>5</td>\n",
       "      <td>2024-01-12T16:53:33.611Z</td>\n",
       "      <td>Belorussky</td>\n",
       "    </tr>\n",
       "    <tr>\n",
       "      <th>1</th>\n",
       "      <td>1252</td>\n",
       "      <td>0</td>\n",
       "      <td>5</td>\n",
       "      <td>It's located very conveniently, new routes are...</td>\n",
       "      <td>Пользователь Э.</td>\n",
       "      <td>5</td>\n",
       "      <td>2023-11-10T21:33:56.176Z</td>\n",
       "      <td>Belorussky</td>\n",
       "    </tr>\n",
       "    <tr>\n",
       "      <th>2</th>\n",
       "      <td>1253</td>\n",
       "      <td>2</td>\n",
       "      <td>7</td>\n",
       "      <td>This station is very cozy and convenient. I re...</td>\n",
       "      <td>Н И</td>\n",
       "      <td>5</td>\n",
       "      <td>2023-08-25T14:27:29.327Z</td>\n",
       "      <td>Belorussky</td>\n",
       "    </tr>\n",
       "    <tr>\n",
       "      <th>3</th>\n",
       "      <td>1254</td>\n",
       "      <td>1</td>\n",
       "      <td>5</td>\n",
       "      <td>It's a beautiful building, very conveniently l...</td>\n",
       "      <td>Liliya Zugrova</td>\n",
       "      <td>5</td>\n",
       "      <td>2023-11-27T11:50:16.388Z</td>\n",
       "      <td>Belorussky</td>\n",
       "    </tr>\n",
       "    <tr>\n",
       "      <th>4</th>\n",
       "      <td>1255</td>\n",
       "      <td>2</td>\n",
       "      <td>7</td>\n",
       "      <td>With the appearance of new lines and routes, e...</td>\n",
       "      <td>Татьяна Цымлова</td>\n",
       "      <td>5</td>\n",
       "      <td>2023-11-25T06:43:16.558Z</td>\n",
       "      <td>Belorussky</td>\n",
       "    </tr>\n",
       "    <tr>\n",
       "      <th>...</th>\n",
       "      <td>...</td>\n",
       "      <td>...</td>\n",
       "      <td>...</td>\n",
       "      <td>...</td>\n",
       "      <td>...</td>\n",
       "      <td>...</td>\n",
       "      <td>...</td>\n",
       "      <td>...</td>\n",
       "    </tr>\n",
       "    <tr>\n",
       "      <th>2264</th>\n",
       "      <td>2266</td>\n",
       "      <td>0</td>\n",
       "      <td>1</td>\n",
       "      <td>Excellent station. New and modern, with direct...</td>\n",
       "      <td>Анна Елагина</td>\n",
       "      <td>5</td>\n",
       "      <td>2024-02-02T04:55:15.074Z</td>\n",
       "      <td>Vostochny</td>\n",
       "    </tr>\n",
       "    <tr>\n",
       "      <th>2265</th>\n",
       "      <td>2267</td>\n",
       "      <td>1</td>\n",
       "      <td>0</td>\n",
       "      <td>I've been there recently)) the cuisine is real...</td>\n",
       "      <td>Дмитрий</td>\n",
       "      <td>5</td>\n",
       "      <td>2023-11-12T14:21:47.541Z</td>\n",
       "      <td>Vostochny</td>\n",
       "    </tr>\n",
       "    <tr>\n",
       "      <th>2266</th>\n",
       "      <td>2268</td>\n",
       "      <td>0</td>\n",
       "      <td>0</td>\n",
       "      <td>It's a great and beautiful station. The toilet...</td>\n",
       "      <td>Валентина Архимановна</td>\n",
       "      <td>5</td>\n",
       "      <td>2024-01-31T10:53:36.364Z</td>\n",
       "      <td>Vostochny</td>\n",
       "    </tr>\n",
       "    <tr>\n",
       "      <th>2267</th>\n",
       "      <td>2269</td>\n",
       "      <td>3</td>\n",
       "      <td>10</td>\n",
       "      <td>This is not a train station, but rather a hub ...</td>\n",
       "      <td>Владислав Баранов</td>\n",
       "      <td>2</td>\n",
       "      <td>2023-12-06T12:03:14.107Z</td>\n",
       "      <td>Vostochny</td>\n",
       "    </tr>\n",
       "    <tr>\n",
       "      <th>2268</th>\n",
       "      <td>2270</td>\n",
       "      <td>0</td>\n",
       "      <td>3</td>\n",
       "      <td>The new station is very nice! It’s complicated...</td>\n",
       "      <td>Наталья Байбакова</td>\n",
       "      <td>5</td>\n",
       "      <td>2023-12-24T13:10:29.484Z</td>\n",
       "      <td>Vostochny</td>\n",
       "    </tr>\n",
       "  </tbody>\n",
       "</table>\n",
       "<p>2269 rows × 8 columns</p>\n",
       "</div>"
      ],
      "text/plain": [
       "        id  dislike  like  ... review_rating                  datetime     station\n",
       "0     1251        1    10  ...             5  2024-01-12T16:53:33.611Z  Belorussky\n",
       "1     1252        0     5  ...             5  2023-11-10T21:33:56.176Z  Belorussky\n",
       "2     1253        2     7  ...             5  2023-08-25T14:27:29.327Z  Belorussky\n",
       "3     1254        1     5  ...             5  2023-11-27T11:50:16.388Z  Belorussky\n",
       "4     1255        2     7  ...             5  2023-11-25T06:43:16.558Z  Belorussky\n",
       "...    ...      ...   ...  ...           ...                       ...         ...\n",
       "2264  2266        0     1  ...             5  2024-02-02T04:55:15.074Z   Vostochny\n",
       "2265  2267        1     0  ...             5  2023-11-12T14:21:47.541Z   Vostochny\n",
       "2266  2268        0     0  ...             5  2024-01-31T10:53:36.364Z   Vostochny\n",
       "2267  2269        3    10  ...             2  2023-12-06T12:03:14.107Z   Vostochny\n",
       "2268  2270        0     3  ...             5  2023-12-24T13:10:29.484Z   Vostochny\n",
       "\n",
       "[2269 rows x 8 columns]"
      ]
     },
     "execution_count": 1,
     "metadata": {},
     "output_type": "execute_result"
    }
   ],
   "source": [
    "import pandas as pd\n",
    "df = pd.read_csv(\"https://storage.yandexcloud.net/mypub/data/rail_reviews_en.zip\")\n",
    "df"
   ]
  },
  {
   "cell_type": "markdown",
   "id": "10c02d14-db41-4644-b8ac-58f21d7a78f4",
   "metadata": {},
   "source": [
    "Let's look at the number of feedback for each railway station:"
   ]
  },
  {
   "cell_type": "code",
   "execution_count": 2,
   "id": "6cb3889e-c454-4493-bec0-e7a8820e0ea2",
   "metadata": {
    "execution": {
     "iopub.execute_input": "2025-07-12T09:51:55.819663Z",
     "iopub.status.busy": "2025-07-12T09:51:55.818669Z",
     "iopub.status.idle": "2025-07-12T09:51:56.251018Z",
     "shell.execute_reply": "2025-07-12T09:51:56.250254Z",
     "shell.execute_reply.started": "2025-07-12T09:51:55.819620Z"
    },
    "tags": []
   },
   "outputs": [
    {
     "data": {
      "text/plain": [
       "<Axes: xlabel='station'>"
      ]
     },
     "execution_count": 2,
     "metadata": {},
     "output_type": "execute_result"
    },
    {
     "data": {
      "image/png": "[encoded data removed]",
      "text/plain": [
       "<Figure size 640x480 with 1 Axes>"
      ]
     },
     "metadata": {},
     "output_type": "display_data"
    }
   ],
   "source": [
    "df.groupby('station')['review_text'].count().plot.bar()"
   ]
  },
  {
   "cell_type": "markdown",
   "id": "a4439dc0-1991-4daa-89ca-5b855850d636",
   "metadata": {},
   "source": [
    "### Enriching data with Sentiment using HuggingFace model\n",
    "\n",
    "We can use any sentiment analysis model from HuggingFace, for example, [tabularisai/multilingual-sentiment-analysis](https://huggingface.co/tabularisai/multilingual-sentiment-analysis). You can see the sample code in the model card page:"
   ]
  },
  {
   "cell_type": "code",
   "execution_count": 3,
   "id": "8b435ee6-afe1-4028-90f6-76715a3a4d68",
   "metadata": {
    "execution": {
     "iopub.execute_input": "2025-07-12T09:52:50.224129Z",
     "iopub.status.busy": "2025-07-12T09:52:50.222960Z",
     "iopub.status.idle": "2025-07-12T09:55:22.334284Z",
     "shell.execute_reply": "2025-07-12T09:55:22.333422Z",
     "shell.execute_reply.started": "2025-07-12T09:52:50.224084Z"
    },
    "tags": []
   },
   "outputs": [
    {
     "name": "stderr",
     "output_type": "stream",
     "text": [
      "/home/jupyter/.local/lib/python3.10/site-packages/transformers/utils/hub.py:106: FutureWarning: Using `TRANSFORMERS_CACHE` is deprecated and will be removed in v5 of Transformers. Use `HF_HOME` instead.\n",
      "  warnings.warn(\n",
      "2025-07-12 09:53:28.257015: I tensorflow/core/util/port.cc:110] oneDNN custom operations are on. You may see slightly different numerical results due to floating-point round-off errors from different computation orders. To turn them off, set the environment variable `TF_ENABLE_ONEDNN_OPTS=0`.\n",
      "2025-07-12 09:53:34.056665: I tensorflow/core/platform/cpu_feature_guard.cc:182] This TensorFlow binary is optimized to use available CPU instructions in performance-critical operations.\n",
      "To enable the following instructions: AVX2 AVX512F AVX512_VNNI FMA, in other operations, rebuild TensorFlow with the appropriate compiler flags.\n",
      "2025-07-12 09:53:47.696422: W tensorflow/compiler/tf2tensorrt/utils/py_utils.cc:38] TF-TRT Warning: Could not find TensorRT\n",
      "/usr/local/lib/python3.10/dist-packages/torchvision/datapoints/__init__.py:12: UserWarning: The torchvision.datapoints and torchvision.transforms.v2 namespaces are still Beta. While we do not expect major breaking changes, some APIs may still change according to user feedback. Please submit any feedback you may have in this issue: https://github.com/pytorch/vision/issues/6753, and you can also check out https://github.com/pytorch/vision/issues/7319 to learn more about the APIs that we suspect might involve future changes. You can silence this warning by calling torchvision.disable_beta_transforms_warning().\n",
      "  warnings.warn(_BETA_TRANSFORMS_WARNING)\n",
      "/usr/local/lib/python3.10/dist-packages/torchvision/transforms/v2/__init__.py:54: UserWarning: The torchvision.datapoints and torchvision.transforms.v2 namespaces are still Beta. While we do not expect major breaking changes, some APIs may still change according to user feedback. Please submit any feedback you may have in this issue: https://github.com/pytorch/vision/issues/6753, and you can also check out https://github.com/pytorch/vision/issues/7319 to learn more about the APIs that we suspect might involve future changes. You can silence this warning by calling torchvision.disable_beta_transforms_warning().\n",
      "  warnings.warn(_BETA_TRANSFORMS_WARNING)\n",
      "Device set to use cuda:0\n"
     ]
    },
    {
     "name": "stdout",
     "output_type": "stream",
     "text": [
      "[{'label': 'Very Positive', 'score': 0.5922620892524719}]\n"
     ]
    }
   ],
   "source": [
    "from transformers import pipeline\n",
    "\n",
    "# Load the classification pipeline with the specified model\n",
    "pipe = pipeline(\"text-classification\", model=\"tabularisai/multilingual-sentiment-analysis\")\n",
    "\n",
    "# Classify a new sentence\n",
    "sentence = \"I love this product! It's amazing and works perfectly.\"\n",
    "result = pipe(sentence)\n",
    "\n",
    "# Print the result\n",
    "print(result)\n"
   ]
  },
  {
   "cell_type": "markdown",
   "id": "28a46fbd-e2a8-4522-9b5d-f2bd910473d9",
   "metadata": {},
   "source": [
    "Let's map sentiment in a number, so that it is easier to process. We will also explicitly limit the number of characters in a review to 512, which is the limit of the model:"
   ]
  },
  {
   "cell_type": "code",
   "execution_count": 12,
   "id": "c8687027-68e8-459f-8590-9b7df50bbec7",
   "metadata": {
    "execution": {
     "iopub.execute_input": "2025-07-12T10:02:14.537694Z",
     "iopub.status.busy": "2025-07-12T10:02:14.536607Z",
     "iopub.status.idle": "2025-07-12T10:02:14.584425Z",
     "shell.execute_reply": "2025-07-12T10:02:14.583541Z",
     "shell.execute_reply.started": "2025-07-12T10:02:14.537652Z"
    },
    "tags": []
   },
   "outputs": [],
   "source": [
    "sentiment_map = {\"Very Negative\" : -2, \"Negative\" : -1, \"Neutral\" : 0, \"Positive\" : 1, \"Very Positive\" : 2}\n",
    "\n",
    "def predict(x):\n",
    "    if isinstance(x,list):\n",
    "        x = [z[:512] for z in x]\n",
    "    else:\n",
    "        x = x[:512]\n",
    "    return [ sentiment_map[z['label']] for z in pipe(x)]"
   ]
  },
  {
   "cell_type": "markdown",
   "id": "4fe1bac1-d605-4297-b491-6ab88cd51bca",
   "metadata": {},
   "source": [
    "Let's check this function:"
   ]
  },
  {
   "cell_type": "code",
   "execution_count": 10,
   "id": "99b31f76-9f0e-4a2d-a586-e7fd60dbb59d",
   "metadata": {
    "execution": {
     "iopub.execute_input": "2025-07-12T09:59:26.572213Z",
     "iopub.status.busy": "2025-07-12T09:59:26.571069Z",
     "iopub.status.idle": "2025-07-12T09:59:26.705998Z",
     "shell.execute_reply": "2025-07-12T09:59:26.705164Z",
     "shell.execute_reply.started": "2025-07-12T09:59:26.572169Z"
    },
    "tags": []
   },
   "outputs": [
    {
     "data": {
      "text/plain": [
       "[0, 2, -2]"
      ]
     },
     "execution_count": 10,
     "metadata": {},
     "output_type": "execute_result"
    }
   ],
   "source": [
    "predict([\n",
    "    'It is an ordinary railway station...',\n",
    "    'I love this station, trains are very colorful!',\n",
    "    'I hate this awful station, most of the time trains are 20 min late'])"
   ]
  },
  {
   "cell_type": "markdown",
   "id": "6ef441e4-151e-4f75-b723-38c6f323c0e9",
   "metadata": {},
   "source": [
    "To apply this function to the whole dataset, we will split it into smaller parts:"
   ]
  },
  {
   "cell_type": "code",
   "execution_count": 14,
   "id": "f9179709-020e-44df-8f00-2adf00366a62",
   "metadata": {
    "execution": {
     "iopub.execute_input": "2025-07-12T10:02:55.518845Z",
     "iopub.status.busy": "2025-07-12T10:02:55.517837Z",
     "iopub.status.idle": "2025-07-12T10:03:07.350766Z",
     "shell.execute_reply": "2025-07-12T10:03:07.349945Z",
     "shell.execute_reply.started": "2025-07-12T10:02:55.518801Z"
    },
    "tags": []
   },
   "outputs": [
    {
     "name": "stderr",
     "output_type": "stream",
     "text": [
      "100%|██████████| 10/10 [00:11<00:00,  1.18s/it]\n"
     ]
    }
   ],
   "source": [
    "from tqdm.auto import tqdm\n",
    "import numpy as np \n",
    "\n",
    "res = []\n",
    "for d in tqdm(np.array_split(df,10)):\n",
    "    z = list(d['review_text'])\n",
    "    p = predict(z)\n",
    "    res.extend(p)\n",
    "df['hf_sentiment'] = res"
   ]
  },
  {
   "cell_type": "markdown",
   "id": "a397f302-a542-462b-b70d-06145245b8f7",
   "metadata": {},
   "source": [
    "Let's store this to disk just in case:"
   ]
  },
  {
   "cell_type": "code",
   "execution_count": 15,
   "id": "1a0afc80-12d2-4a5b-8084-4dfceac173bf",
   "metadata": {
    "execution": {
     "iopub.execute_input": "2025-07-12T10:03:24.279972Z",
     "iopub.status.busy": "2025-07-12T10:03:24.278479Z",
     "iopub.status.idle": "2025-07-12T10:03:24.347149Z",
     "shell.execute_reply": "2025-07-12T10:03:24.346285Z",
     "shell.execute_reply.started": "2025-07-12T10:03:24.279923Z"
    },
    "tags": []
   },
   "outputs": [],
   "source": [
    "df.to_csv('dataset_with_hf_sentiment.csv',index=False)"
   ]
  },
  {
   "cell_type": "markdown",
   "id": "1a8603eb-ab42-4c7e-81c9-5256894727f0",
   "metadata": {},
   "source": [
    "Now let's see most positive and most negative stations in Moscow:"
   ]
  },
  {
   "cell_type": "code",
   "execution_count": 17,
   "id": "e1afca3f-3b69-4d84-961f-95949e3a279b",
   "metadata": {
    "execution": {
     "iopub.execute_input": "2025-07-12T10:04:00.752316Z",
     "iopub.status.busy": "2025-07-12T10:04:00.751111Z",
     "iopub.status.idle": "2025-07-12T10:04:00.818973Z",
     "shell.execute_reply": "2025-07-12T10:04:00.818185Z",
     "shell.execute_reply.started": "2025-07-12T10:04:00.752274Z"
    },
    "tags": []
   },
   "outputs": [
    {
     "data": {
      "text/html": [
       "<div>\n",
       "<style scoped>\n",
       "    .dataframe tbody tr th:only-of-type {\n",
       "        vertical-align: middle;\n",
       "    }\n",
       "\n",
       "    .dataframe tbody tr th {\n",
       "        vertical-align: top;\n",
       "    }\n",
       "\n",
       "    .dataframe thead tr th {\n",
       "        text-align: left;\n",
       "    }\n",
       "\n",
       "    .dataframe thead tr:last-of-type th {\n",
       "        text-align: right;\n",
       "    }\n",
       "</style>\n",
       "<table border=\"1\" class=\"dataframe\">\n",
       "  <thead>\n",
       "    <tr>\n",
       "      <th></th>\n",
       "      <th colspan=\"3\" halign=\"left\">hf_sentiment</th>\n",
       "      <th>review_text</th>\n",
       "    </tr>\n",
       "    <tr>\n",
       "      <th></th>\n",
       "      <th>mean</th>\n",
       "      <th>count_pos</th>\n",
       "      <th>count_neg</th>\n",
       "      <th>count</th>\n",
       "    </tr>\n",
       "    <tr>\n",
       "      <th>station</th>\n",
       "      <th></th>\n",
       "      <th></th>\n",
       "      <th></th>\n",
       "      <th></th>\n",
       "    </tr>\n",
       "  </thead>\n",
       "  <tbody>\n",
       "    <tr>\n",
       "      <th>Belorussky</th>\n",
       "      <td>0.860000</td>\n",
       "      <td>13</td>\n",
       "      <td>0</td>\n",
       "      <td>50</td>\n",
       "    </tr>\n",
       "    <tr>\n",
       "      <th>Kazan</th>\n",
       "      <td>0.842857</td>\n",
       "      <td>53</td>\n",
       "      <td>10</td>\n",
       "      <td>210</td>\n",
       "    </tr>\n",
       "    <tr>\n",
       "      <th>Kursky</th>\n",
       "      <td>0.406667</td>\n",
       "      <td>118</td>\n",
       "      <td>46</td>\n",
       "      <td>600</td>\n",
       "    </tr>\n",
       "    <tr>\n",
       "      <th>Kyiv</th>\n",
       "      <td>0.652755</td>\n",
       "      <td>111</td>\n",
       "      <td>22</td>\n",
       "      <td>599</td>\n",
       "    </tr>\n",
       "    <tr>\n",
       "      <th>Paveletsky</th>\n",
       "      <td>0.620000</td>\n",
       "      <td>11</td>\n",
       "      <td>2</td>\n",
       "      <td>50</td>\n",
       "    </tr>\n",
       "    <tr>\n",
       "      <th>Rizhsky</th>\n",
       "      <td>0.611667</td>\n",
       "      <td>117</td>\n",
       "      <td>32</td>\n",
       "      <td>600</td>\n",
       "    </tr>\n",
       "    <tr>\n",
       "      <th>Savyolovsky</th>\n",
       "      <td>0.480000</td>\n",
       "      <td>13</td>\n",
       "      <td>1</td>\n",
       "      <td>50</td>\n",
       "    </tr>\n",
       "    <tr>\n",
       "      <th>Vostochny</th>\n",
       "      <td>0.554545</td>\n",
       "      <td>28</td>\n",
       "      <td>9</td>\n",
       "      <td>110</td>\n",
       "    </tr>\n",
       "  </tbody>\n",
       "</table>\n",
       "</div>"
      ],
      "text/plain": [
       "            hf_sentiment                     review_text\n",
       "                    mean count_pos count_neg       count\n",
       "station                                                 \n",
       "Belorussky      0.860000        13         0          50\n",
       "Kazan           0.842857        53        10         210\n",
       "Kursky          0.406667       118        46         600\n",
       "Kyiv            0.652755       111        22         599\n",
       "Paveletsky      0.620000        11         2          50\n",
       "Rizhsky         0.611667       117        32         600\n",
       "Savyolovsky     0.480000        13         1          50\n",
       "Vostochny       0.554545        28         9         110"
      ]
     },
     "execution_count": 17,
     "metadata": {},
     "output_type": "execute_result"
    }
   ],
   "source": [
    "def count_pos(x):\n",
    "    return x[x==1].count()\n",
    "def count_neg(x):\n",
    "    return x[x==-1].count()\n",
    "\n",
    "\n",
    "df.groupby('station').agg({'hf_sentiment' : ['mean', count_pos, count_neg ], 'review_text': 'count'})"
   ]
  },
  {
   "cell_type": "markdown",
   "id": "8cef2b36-944e-43d6-beca-4bf805729343",
   "metadata": {},
   "source": [
    "At this point, you can stop your GPU machine and switch to CPU-only **c1.4**"
   ]
  },
  {
   "cell_type": "markdown",
   "id": "59a5ab99-6c07-4434-a75c-9eb64b548d7d",
   "metadata": {
    "tags": []
   },
   "source": [
    "### Using YandexGPT to extract meaning from feedback\n",
    "\n",
    "Let's try to use LLMs to extract structured information from unstructured text. We will use [Yandex Cloud ML SDK](https://yandex.cloud/ru/docs/foundation-models/quickstart/yandexgpthttps://yandex.cloud/ru/docs/foundation-models/quickstart/yandexgpt) in order to call YandexGPT model in the cloud."
   ]
  },
  {
   "cell_type": "markdown",
   "id": "40da2938-14d2-4274-b61e-46e4a316714b",
   "metadata": {},
   "source": [
    "In order to use Cloud APIs, we need `api_key` and `folder_id`. You can obtain those by creating service account in Yandex Cloud Console, giving it some permissions, and then setting API key. It is convenient to store those values as DataSphere secrets."
   ]
  },
  {
   "cell_type": "code",
   "execution_count": 18,
   "id": "cd65bd33-b306-453c-988c-d87880a09d81",
   "metadata": {
    "execution": {
     "iopub.execute_input": "2025-07-12T10:04:59.983595Z",
     "iopub.status.busy": "2025-07-12T10:04:59.982609Z",
     "iopub.status.idle": "2025-07-12T10:05:00.034544Z",
     "shell.execute_reply": "2025-07-12T10:05:00.033722Z",
     "shell.execute_reply.started": "2025-07-12T10:04:59.983553Z"
    },
    "tags": []
   },
   "outputs": [
    {
     "name": "stdout",
     "output_type": "stream",
     "text": [
      "Using folder b1gbicod0scglhd49qs0\n"
     ]
    }
   ],
   "source": [
    "import os\n",
    "\n",
    "folder_id = os.environ['folder_id']\n",
    "api_key = os.environ['api_key']\n",
    "print(f\"Using folder {folder_id}\")"
   ]
  },
  {
   "cell_type": "markdown",
   "id": "ed3ce532-2864-4f49-99c4-20832cd1c6dc",
   "metadata": {},
   "source": [
    "Let's make a function for calling YandexGPT:"
   ]
  },
  {
   "cell_type": "code",
   "execution_count": 21,
   "id": "95e05049-8b1c-4a00-8ef4-665fdbc35968",
   "metadata": {
    "execution": {
     "iopub.execute_input": "2025-07-12T10:05:31.007618Z",
     "iopub.status.busy": "2025-07-12T10:05:31.006368Z",
     "iopub.status.idle": "2025-07-12T10:05:31.987463Z",
     "shell.execute_reply": "2025-07-12T10:05:31.986624Z",
     "shell.execute_reply.started": "2025-07-12T10:05:31.007560Z"
    },
    "tags": []
   },
   "outputs": [
    {
     "data": {
      "text/plain": [
       "'Why did the developer use JSON instead of XML? Because he didn\\'t want to deal with all those \"angle-tastic\" complications!'"
      ]
     },
     "execution_count": 21,
     "metadata": {},
     "output_type": "execute_result"
    }
   ],
   "source": [
    "from yandex_cloud_ml_sdk import YCloudML\n",
    "\n",
    "sdk = YCloudML(folder_id=folder_id,auth=api_key)\n",
    "\n",
    "def gpt(messages,\n",
    "        system_message=None,\n",
    "        model=\"yandexgpt\", model_version=\"rc\",\n",
    "        return_text=True,\n",
    "        return_json=False):\n",
    "    if isinstance(messages,str):\n",
    "        messages = [{ \"role\" : \"user\", \"text\" : messages }]\n",
    "        if system_message is not None:\n",
    "            messages.insert(0, { \"role\" : \"system\", \"text\" : system_message })\n",
    "    model = sdk.models.completions(model,model_version=model_version)\n",
    "    if return_json:\n",
    "        model = model.configure(response_format='json')\n",
    "    res = model.run(messages)\n",
    "    res = res.alternatives[0]\n",
    "    return res.text if return_text else res\n",
    "\n",
    "gpt(\"Tell us a joke about JSON and XML\")"
   ]
  },
  {
   "cell_type": "markdown",
   "id": "e748bd9b-0e9f-436f-b1b7-fa7e46f69c4b",
   "metadata": {},
   "source": [
    "To speed up our demo, let's sample 10 reviews for each railway station:"
   ]
  },
  {
   "cell_type": "code",
   "execution_count": 22,
   "id": "305d3630-4f00-46f9-9312-56b18d63868a",
   "metadata": {
    "execution": {
     "iopub.execute_input": "2025-07-12T10:06:03.922083Z",
     "iopub.status.busy": "2025-07-12T10:06:03.921391Z",
     "iopub.status.idle": "2025-07-12T10:06:03.996904Z",
     "shell.execute_reply": "2025-07-12T10:06:03.996006Z",
     "shell.execute_reply.started": "2025-07-12T10:06:03.922042Z"
    },
    "tags": []
   },
   "outputs": [
    {
     "data": {
      "text/html": [
       "<div>\n",
       "<style scoped>\n",
       "    .dataframe tbody tr th:only-of-type {\n",
       "        vertical-align: middle;\n",
       "    }\n",
       "\n",
       "    .dataframe tbody tr th {\n",
       "        vertical-align: top;\n",
       "    }\n",
       "\n",
       "    .dataframe thead th {\n",
       "        text-align: right;\n",
       "    }\n",
       "</style>\n",
       "<table border=\"1\" class=\"dataframe\">\n",
       "  <thead>\n",
       "    <tr style=\"text-align: right;\">\n",
       "      <th></th>\n",
       "      <th>id</th>\n",
       "      <th>dislike</th>\n",
       "      <th>like</th>\n",
       "      <th>review_text</th>\n",
       "      <th>author</th>\n",
       "      <th>review_rating</th>\n",
       "      <th>datetime</th>\n",
       "      <th>station</th>\n",
       "      <th>hf_sentiment</th>\n",
       "    </tr>\n",
       "  </thead>\n",
       "  <tbody>\n",
       "    <tr>\n",
       "      <th>0</th>\n",
       "      <td>1300</td>\n",
       "      <td>7</td>\n",
       "      <td>21</td>\n",
       "      <td>It's conveniently located, there are storage l...</td>\n",
       "      <td>Люси</td>\n",
       "      <td>5</td>\n",
       "      <td>2023-04-05T23:12:23.159Z</td>\n",
       "      <td>Belorussky</td>\n",
       "      <td>0</td>\n",
       "    </tr>\n",
       "    <tr>\n",
       "      <th>1</th>\n",
       "      <td>1262</td>\n",
       "      <td>2</td>\n",
       "      <td>16</td>\n",
       "      <td>В интернете есть много сайтов с информацией на...</td>\n",
       "      <td>Алекс</td>\n",
       "      <td>5</td>\n",
       "      <td>2023-04-22T16:43:05.097Z</td>\n",
       "      <td>Belorussky</td>\n",
       "      <td>0</td>\n",
       "    </tr>\n",
       "    <tr>\n",
       "      <th>2</th>\n",
       "      <td>1299</td>\n",
       "      <td>4</td>\n",
       "      <td>9</td>\n",
       "      <td>The station building itself is beautiful. Ther...</td>\n",
       "      <td>Григорий Николаевич</td>\n",
       "      <td>4</td>\n",
       "      <td>2023-11-09T17:07:07.324Z</td>\n",
       "      <td>Belorussky</td>\n",
       "      <td>2</td>\n",
       "    </tr>\n",
       "    <tr>\n",
       "      <th>3</th>\n",
       "      <td>1298</td>\n",
       "      <td>0</td>\n",
       "      <td>0</td>\n",
       "      <td>Beautiful, convenient, comfortable. You can ge...</td>\n",
       "      <td>Елена Маркина</td>\n",
       "      <td>5</td>\n",
       "      <td>2023-12-15T16:17:31.269Z</td>\n",
       "      <td>Belorussky</td>\n",
       "      <td>2</td>\n",
       "    </tr>\n",
       "    <tr>\n",
       "      <th>4</th>\n",
       "      <td>1296</td>\n",
       "      <td>1</td>\n",
       "      <td>0</td>\n",
       "      <td>This is my favorite station. Everything is cle...</td>\n",
       "      <td>Елена Павлова</td>\n",
       "      <td>5</td>\n",
       "      <td>2023-08-11T13:49:03.744Z</td>\n",
       "      <td>Belorussky</td>\n",
       "      <td>0</td>\n",
       "    </tr>\n",
       "    <tr>\n",
       "      <th>...</th>\n",
       "      <td>...</td>\n",
       "      <td>...</td>\n",
       "      <td>...</td>\n",
       "      <td>...</td>\n",
       "      <td>...</td>\n",
       "      <td>...</td>\n",
       "      <td>...</td>\n",
       "      <td>...</td>\n",
       "      <td>...</td>\n",
       "    </tr>\n",
       "    <tr>\n",
       "      <th>75</th>\n",
       "      <td>2236</td>\n",
       "      <td>1</td>\n",
       "      <td>5</td>\n",
       "      <td>Excellent station, clean, the decoration seems...</td>\n",
       "      <td>Алексей</td>\n",
       "      <td>5</td>\n",
       "      <td>2024-02-08T15:46:52.258Z</td>\n",
       "      <td>Vostochny</td>\n",
       "      <td>1</td>\n",
       "    </tr>\n",
       "    <tr>\n",
       "      <th>76</th>\n",
       "      <td>2229</td>\n",
       "      <td>2</td>\n",
       "      <td>3</td>\n",
       "      <td>It's a good, modern station. It's quite conven...</td>\n",
       "      <td>Александр Баранов</td>\n",
       "      <td>5</td>\n",
       "      <td>2023-11-13T18:20:44.039Z</td>\n",
       "      <td>Vostochny</td>\n",
       "      <td>1</td>\n",
       "    </tr>\n",
       "    <tr>\n",
       "      <th>77</th>\n",
       "      <td>2170</td>\n",
       "      <td>0</td>\n",
       "      <td>0</td>\n",
       "      <td>A new and slightly unconventional station! I r...</td>\n",
       "      <td>Анастасия</td>\n",
       "      <td>5</td>\n",
       "      <td>2023-12-04T11:04:24.847Z</td>\n",
       "      <td>Vostochny</td>\n",
       "      <td>2</td>\n",
       "    </tr>\n",
       "    <tr>\n",
       "      <th>78</th>\n",
       "      <td>2254</td>\n",
       "      <td>2</td>\n",
       "      <td>3</td>\n",
       "      <td>It's a good station with a convenient exit fro...</td>\n",
       "      <td>Алсу Р</td>\n",
       "      <td>5</td>\n",
       "      <td>2023-12-31T14:36:25.010Z</td>\n",
       "      <td>Vostochny</td>\n",
       "      <td>1</td>\n",
       "    </tr>\n",
       "    <tr>\n",
       "      <th>79</th>\n",
       "      <td>2182</td>\n",
       "      <td>0</td>\n",
       "      <td>0</td>\n",
       "      <td>The station, of course, is not in the city cen...</td>\n",
       "      <td>Николай Бараненко</td>\n",
       "      <td>5</td>\n",
       "      <td>2023-12-09T05:49:33.192Z</td>\n",
       "      <td>Vostochny</td>\n",
       "      <td>1</td>\n",
       "    </tr>\n",
       "  </tbody>\n",
       "</table>\n",
       "<p>80 rows × 9 columns</p>\n",
       "</div>"
      ],
      "text/plain": [
       "      id  dislike  like  ...                  datetime     station  hf_sentiment\n",
       "0   1300        7    21  ...  2023-04-05T23:12:23.159Z  Belorussky             0\n",
       "1   1262        2    16  ...  2023-04-22T16:43:05.097Z  Belorussky             0\n",
       "2   1299        4     9  ...  2023-11-09T17:07:07.324Z  Belorussky             2\n",
       "3   1298        0     0  ...  2023-12-15T16:17:31.269Z  Belorussky             2\n",
       "4   1296        1     0  ...  2023-08-11T13:49:03.744Z  Belorussky             0\n",
       "..   ...      ...   ...  ...                       ...         ...           ...\n",
       "75  2236        1     5  ...  2024-02-08T15:46:52.258Z   Vostochny             1\n",
       "76  2229        2     3  ...  2023-11-13T18:20:44.039Z   Vostochny             1\n",
       "77  2170        0     0  ...  2023-12-04T11:04:24.847Z   Vostochny             2\n",
       "78  2254        2     3  ...  2023-12-31T14:36:25.010Z   Vostochny             1\n",
       "79  2182        0     0  ...  2023-12-09T05:49:33.192Z   Vostochny             1\n",
       "\n",
       "[80 rows x 9 columns]"
      ]
     },
     "execution_count": 22,
     "metadata": {},
     "output_type": "execute_result"
    }
   ],
   "source": [
    "import pandas as pd\n",
    "\n",
    "df = pd.read_csv('dataset_with_hf_sentiment.csv')\n",
    "df_sample = df.groupby('station').apply(lambda x: x.sample(10)).reset_index(drop=True)\n",
    "df_sample"
   ]
  },
  {
   "cell_type": "markdown",
   "id": "1c0d8087-3135-4258-835d-9b2a9c885080",
   "metadata": {},
   "source": [
    "We will now try to extract more detailed feedback about different aspects using prompt:"
   ]
  },
  {
   "cell_type": "code",
   "execution_count": 24,
   "id": "81bcfcaa-c4d8-46cc-9a34-d93a3a6e4a3a",
   "metadata": {
    "execution": {
     "iopub.execute_input": "2025-07-12T10:10:30.540069Z",
     "iopub.status.busy": "2025-07-12T10:10:30.539053Z",
     "iopub.status.idle": "2025-07-12T10:10:31.719282Z",
     "shell.execute_reply": "2025-07-12T10:10:31.718491Z",
     "shell.execute_reply.started": "2025-07-12T10:10:30.540027Z"
    },
    "tags": []
   },
   "outputs": [
    {
     "name": "stdout",
     "output_type": "stream",
     "text": [
      "It's a very beautiful place, and the staff are polite.\n",
      "\n",
      "I traveled by train from Moscow to Belarus. It was comfortable: clean linen, warm, and you can travel with pets. They even serve hot tea right to your bed, so you don't have to exert yourself. The qualified staff take care of everything and ensure your comfort.\n"
     ]
    },
    {
     "data": {
      "text/plain": [
       "'```\\n{\\n  \"sentiment\": 2,\\n  \"transport\": 0,\\n  \"cleanliness\": 0,\\n  \"schedule\": 0,\\n  \"positive\": [\"beautiful place\", \"polite staff\", \"comfortable\", \"clean linen\", \"warm\", \"can travel with pets\", \"hot tea service\"],\\n  \"negative\": [],\\n  \"tags\": [\"staff\", \"comfort\", \"service\"]\\n}\\n```'"
      ]
     },
     "execution_count": 24,
     "metadata": {},
     "output_type": "execute_result"
    }
   ],
   "source": [
    "prompt = \"\"\"\n",
    "Read the review about a railway station given below in triple backquotes: ````{}```.\n",
    "You need to extract the following information from this feedback:\n",
    "* sentiment - a number from -2 to 2, starting from very negative (-2), up to very positive (2)\n",
    "* transport - how easy it is to get there, on the scale 1..5, if the review contains this information. If not - 0\n",
    "* cleanliness - how clean is the station, on the scale 1..5, if the review contains this information. If not - 0\n",
    "* schedule - are the trains on schedule, on the scale 1..5, if the review contains this information. If not - 0\n",
    "* positive - short list of positive things from the review\n",
    "* negative - short list of negative things from the review\n",
    "* tags - short list of tags for the review, giving info on what aspects are mentioned\n",
    "You need to return the result as JSON in this format:\n",
    "{{\n",
    "  \"sentiment\" : ...,\n",
    "  \"transport\" : ...,\n",
    "  \"cleanliness\" : ...,\n",
    "  \"schedule\" : ...,\n",
    "  \"positive\" : [\"...\", ...],\n",
    "  \"negative\" : [\"...\", ...],\n",
    "  \"tags\" : [\"...\"]\n",
    "}}\n",
    "\"\"\"\n",
    "\n",
    "txt = df['review_text'].iloc[0]\n",
    "print(txt)\n",
    "res = gpt(prompt.format(txt))\n",
    "res"
   ]
  },
  {
   "cell_type": "markdown",
   "id": "f51045ba-4916-4855-be47-6eaf907a499e",
   "metadata": {},
   "source": [
    "To guarantee that result is returned as JSON, we will use so-called **structured output**. In our`gpt` function we have `return_json` parameter, which restricts model output to valid json. We could also be even more specific and define pydantic schema object with specific fields, and require model to return fields with correct names and of correct type."
   ]
  },
  {
   "cell_type": "code",
   "execution_count": 25,
   "id": "6bc4eca0-a9f5-4619-a630-4a12ddb7fb60",
   "metadata": {
    "execution": {
     "iopub.execute_input": "2025-07-12T10:13:46.983253Z",
     "iopub.status.busy": "2025-07-12T10:13:46.982118Z",
     "iopub.status.idle": "2025-07-12T10:13:48.286221Z",
     "shell.execute_reply": "2025-07-12T10:13:48.285223Z",
     "shell.execute_reply.started": "2025-07-12T10:13:46.983209Z"
    },
    "tags": []
   },
   "outputs": [
    {
     "name": "stdout",
     "output_type": "stream",
     "text": [
      "It's a very beautiful place, and the staff are polite.\n",
      "\n",
      "I traveled by train from Moscow to Belarus. It was comfortable: clean linen, warm, and you can travel with pets. They even serve hot tea right to your bed, so you don't have to exert yourself. The qualified staff take care of everything and ensure your comfort.\n"
     ]
    },
    {
     "data": {
      "text/plain": [
       "{'sentiment': 2,\n",
       " 'transport': 0,\n",
       " 'cleanliness': 0,\n",
       " 'schedule': 0,\n",
       " 'positive': ['beautiful place',\n",
       "  'polite staff',\n",
       "  'comfortable',\n",
       "  'clean linen',\n",
       "  'warm',\n",
       "  'can travel with pets',\n",
       "  'hot tea service',\n",
       "  'qualified staff'],\n",
       " 'negative': [],\n",
       " 'tags': ['beauty', 'staff', 'comfort', 'service']}"
      ]
     },
     "execution_count": 25,
     "metadata": {},
     "output_type": "execute_result"
    }
   ],
   "source": [
    "import json \n",
    "\n",
    "txt = df['review_text'].iloc[0]\n",
    "print(txt)\n",
    "res = json.loads(gpt(prompt.format(txt),return_json=True))\n",
    "res"
   ]
  },
  {
   "cell_type": "markdown",
   "id": "e3edfeb7-5f28-4dac-b6e1-35b8befc0889",
   "metadata": {},
   "source": [
    "Now let's extract information from all columns using GPT:"
   ]
  },
  {
   "cell_type": "code",
   "execution_count": 26,
   "id": "4a7b2ed4-86be-4014-9e20-c6fc7c4a7621",
   "metadata": {
    "execution": {
     "iopub.execute_input": "2025-07-12T10:15:17.887343Z",
     "iopub.status.busy": "2025-07-12T10:15:17.886282Z",
     "iopub.status.idle": "2025-07-12T10:16:42.567408Z",
     "shell.execute_reply": "2025-07-12T10:16:42.566621Z",
     "shell.execute_reply.started": "2025-07-12T10:15:17.887298Z"
    },
    "tags": []
   },
   "outputs": [
    {
     "name": "stderr",
     "output_type": "stream",
     "text": [
      "100%|██████████| 80/80 [01:24<00:00,  1.06s/it]\n"
     ]
    }
   ],
   "source": [
    "from tqdm.auto import tqdm\n",
    "import numpy as np\n",
    "\n",
    "for f in [\"sentiment\",\"transport\",\"cleanliness\", \"schedule\", \"positive\", \"negative\", \"tags\"]:\n",
    "    df_sample[f]=np.nan\n",
    "\n",
    "def lin(x):\n",
    "    if isinstance(x,list):\n",
    "        return ','.join(x)\n",
    "    elif isinstance(x,float):\n",
    "        return ''\n",
    "    else:\n",
    "        return x\n",
    "    \n",
    "for i,r in tqdm(df_sample.iterrows(),total=len(df_sample)):\n",
    "    txt = r['review_text']\n",
    "    if not pd.isnull(r['positive']):\n",
    "        continue # уже распознано\n",
    "    try:\n",
    "        res = gpt(prompt.format(txt),return_json=True)\n",
    "        res = json.loads(res)\n",
    "        for f in [\"sentiment\",\"transport\",\"cleanliness\", \"schedule\", \"positive\", \"negative\", \"tags\"]:\n",
    "            df_sample.at[i,f] = lin(res[f])\n",
    "    except Exception as e:\n",
    "        print(f'Error: {e}, response is {res}, text={txt}')\n",
    "        df_sample.at[i,'sentiment'] = 0\n",
    "        df_sample.at[i,'positive'] = ''\n",
    "        df_sample.at[i,'negative'] = ''"
   ]
  },
  {
   "cell_type": "markdown",
   "id": "31603c6b-ce61-4b89-a8d3-b1c838776ac1",
   "metadata": {},
   "source": [
    "Let's save the result, and look at it:"
   ]
  },
  {
   "cell_type": "code",
   "execution_count": 27,
   "id": "0c2b869c-9bee-49f6-ac43-c94d1af2c06b",
   "metadata": {
    "execution": {
     "iopub.execute_input": "2025-07-12T10:16:55.150134Z",
     "iopub.status.busy": "2025-07-12T10:16:55.148999Z",
     "iopub.status.idle": "2025-07-12T10:16:55.178460Z",
     "shell.execute_reply": "2025-07-12T10:16:55.177646Z",
     "shell.execute_reply.started": "2025-07-12T10:16:55.150091Z"
    },
    "tags": []
   },
   "outputs": [],
   "source": [
    "df_sample.to_csv('dataset_sample_with_GPT.csv',index=False)"
   ]
  },
  {
   "cell_type": "code",
   "execution_count": 28,
   "id": "7dd6cf03-fb91-4cb6-b151-8ec8d048f118",
   "metadata": {
    "execution": {
     "iopub.execute_input": "2025-07-12T10:16:57.355238Z",
     "iopub.status.busy": "2025-07-12T10:16:57.354095Z",
     "iopub.status.idle": "2025-07-12T10:16:57.396108Z",
     "shell.execute_reply": "2025-07-12T10:16:57.395315Z",
     "shell.execute_reply.started": "2025-07-12T10:16:57.355182Z"
    },
    "tags": []
   },
   "outputs": [
    {
     "data": {
      "text/html": [
       "<div>\n",
       "<style scoped>\n",
       "    .dataframe tbody tr th:only-of-type {\n",
       "        vertical-align: middle;\n",
       "    }\n",
       "\n",
       "    .dataframe tbody tr th {\n",
       "        vertical-align: top;\n",
       "    }\n",
       "\n",
       "    .dataframe thead th {\n",
       "        text-align: right;\n",
       "    }\n",
       "</style>\n",
       "<table border=\"1\" class=\"dataframe\">\n",
       "  <thead>\n",
       "    <tr style=\"text-align: right;\">\n",
       "      <th></th>\n",
       "      <th>id</th>\n",
       "      <th>dislike</th>\n",
       "      <th>like</th>\n",
       "      <th>review_text</th>\n",
       "      <th>author</th>\n",
       "      <th>review_rating</th>\n",
       "      <th>datetime</th>\n",
       "      <th>station</th>\n",
       "      <th>hf_sentiment</th>\n",
       "      <th>sentiment</th>\n",
       "      <th>transport</th>\n",
       "      <th>cleanliness</th>\n",
       "      <th>schedule</th>\n",
       "      <th>positive</th>\n",
       "      <th>negative</th>\n",
       "      <th>tags</th>\n",
       "    </tr>\n",
       "  </thead>\n",
       "  <tbody>\n",
       "    <tr>\n",
       "      <th>0</th>\n",
       "      <td>1300</td>\n",
       "      <td>7</td>\n",
       "      <td>21</td>\n",
       "      <td>It's conveniently located, there are storage l...</td>\n",
       "      <td>Люси</td>\n",
       "      <td>5</td>\n",
       "      <td>2023-04-05T23:12:23.159Z</td>\n",
       "      <td>Belorussky</td>\n",
       "      <td>0</td>\n",
       "      <td>2.0</td>\n",
       "      <td>5.0</td>\n",
       "      <td>0.0</td>\n",
       "      <td>0.0</td>\n",
       "      <td>convenient location,storage lockers,cheap meal...</td>\n",
       "      <td>expensive prices at GUM,almost no people at GUM</td>\n",
       "      <td>location,transport,food,shopping</td>\n",
       "    </tr>\n",
       "    <tr>\n",
       "      <th>1</th>\n",
       "      <td>1262</td>\n",
       "      <td>2</td>\n",
       "      <td>16</td>\n",
       "      <td>В интернете есть много сайтов с информацией на...</td>\n",
       "      <td>Алекс</td>\n",
       "      <td>5</td>\n",
       "      <td>2023-04-22T16:43:05.097Z</td>\n",
       "      <td>Belorussky</td>\n",
       "      <td>0</td>\n",
       "      <td>0.0</td>\n",
       "      <td>0.0</td>\n",
       "      <td>0.0</td>\n",
       "      <td>0.0</td>\n",
       "      <td>NaN</td>\n",
       "      <td>NaN</td>\n",
       "      <td>NaN</td>\n",
       "    </tr>\n",
       "    <tr>\n",
       "      <th>2</th>\n",
       "      <td>1299</td>\n",
       "      <td>4</td>\n",
       "      <td>9</td>\n",
       "      <td>The station building itself is beautiful. Ther...</td>\n",
       "      <td>Григорий Николаевич</td>\n",
       "      <td>4</td>\n",
       "      <td>2023-11-09T17:07:07.324Z</td>\n",
       "      <td>Belorussky</td>\n",
       "      <td>2</td>\n",
       "      <td>1.0</td>\n",
       "      <td>5.0</td>\n",
       "      <td>5.0</td>\n",
       "      <td>0.0</td>\n",
       "      <td>beautiful station building,convenient exit fro...</td>\n",
       "      <td>ongoing renovations,inconvenient transfer to t...</td>\n",
       "      <td>station building,accessibility,food,security,r...</td>\n",
       "    </tr>\n",
       "    <tr>\n",
       "      <th>3</th>\n",
       "      <td>1298</td>\n",
       "      <td>0</td>\n",
       "      <td>0</td>\n",
       "      <td>Beautiful, convenient, comfortable. You can ge...</td>\n",
       "      <td>Елена Маркина</td>\n",
       "      <td>5</td>\n",
       "      <td>2023-12-15T16:17:31.269Z</td>\n",
       "      <td>Belorussky</td>\n",
       "      <td>2</td>\n",
       "      <td>2.0</td>\n",
       "      <td>5.0</td>\n",
       "      <td>0.0</td>\n",
       "      <td>5.0</td>\n",
       "      <td>beautiful,convenient,comfortable,easy access t...</td>\n",
       "      <td>NaN</td>\n",
       "      <td>Aeroexpress,Sheremetyevo Airport,waiting room</td>\n",
       "    </tr>\n",
       "    <tr>\n",
       "      <th>4</th>\n",
       "      <td>1296</td>\n",
       "      <td>1</td>\n",
       "      <td>0</td>\n",
       "      <td>This is my favorite station. Everything is cle...</td>\n",
       "      <td>Елена Павлова</td>\n",
       "      <td>5</td>\n",
       "      <td>2023-08-11T13:49:03.744Z</td>\n",
       "      <td>Belorussky</td>\n",
       "      <td>0</td>\n",
       "      <td>2.0</td>\n",
       "      <td>5.0</td>\n",
       "      <td>0.0</td>\n",
       "      <td>0.0</td>\n",
       "      <td>favorite station,convenient location,two metro...</td>\n",
       "      <td>temporary inconvenience due to improvements</td>\n",
       "      <td>location,transport,shops,cafes,ticket offices,...</td>\n",
       "    </tr>\n",
       "    <tr>\n",
       "      <th>...</th>\n",
       "      <td>...</td>\n",
       "      <td>...</td>\n",
       "      <td>...</td>\n",
       "      <td>...</td>\n",
       "      <td>...</td>\n",
       "      <td>...</td>\n",
       "      <td>...</td>\n",
       "      <td>...</td>\n",
       "      <td>...</td>\n",
       "      <td>...</td>\n",
       "      <td>...</td>\n",
       "      <td>...</td>\n",
       "      <td>...</td>\n",
       "      <td>...</td>\n",
       "      <td>...</td>\n",
       "      <td>...</td>\n",
       "    </tr>\n",
       "    <tr>\n",
       "      <th>75</th>\n",
       "      <td>2236</td>\n",
       "      <td>1</td>\n",
       "      <td>5</td>\n",
       "      <td>Excellent station, clean, the decoration seems...</td>\n",
       "      <td>Алексей</td>\n",
       "      <td>5</td>\n",
       "      <td>2024-02-08T15:46:52.258Z</td>\n",
       "      <td>Vostochny</td>\n",
       "      <td>1</td>\n",
       "      <td>2.0</td>\n",
       "      <td>5.0</td>\n",
       "      <td>5.0</td>\n",
       "      <td>0.0</td>\n",
       "      <td>excellent station,clean,convenient location,fr...</td>\n",
       "      <td>NaN</td>\n",
       "      <td>cleanliness,location,staff</td>\n",
       "    </tr>\n",
       "    <tr>\n",
       "      <th>76</th>\n",
       "      <td>2229</td>\n",
       "      <td>2</td>\n",
       "      <td>3</td>\n",
       "      <td>It's a good, modern station. It's quite conven...</td>\n",
       "      <td>Александр Баранов</td>\n",
       "      <td>5</td>\n",
       "      <td>2023-11-13T18:20:44.039Z</td>\n",
       "      <td>Vostochny</td>\n",
       "      <td>1</td>\n",
       "      <td>2.0</td>\n",
       "      <td>0.0</td>\n",
       "      <td>0.0</td>\n",
       "      <td>0.0</td>\n",
       "      <td>modern station,convenient,separate exit for ea...</td>\n",
       "      <td>NaN</td>\n",
       "      <td>convenience,infrastructure</td>\n",
       "    </tr>\n",
       "    <tr>\n",
       "      <th>77</th>\n",
       "      <td>2170</td>\n",
       "      <td>0</td>\n",
       "      <td>0</td>\n",
       "      <td>A new and slightly unconventional station! I r...</td>\n",
       "      <td>Анастасия</td>\n",
       "      <td>5</td>\n",
       "      <td>2023-12-04T11:04:24.847Z</td>\n",
       "      <td>Vostochny</td>\n",
       "      <td>2</td>\n",
       "      <td>2.0</td>\n",
       "      <td>0.0</td>\n",
       "      <td>5.0</td>\n",
       "      <td>0.0</td>\n",
       "      <td>new,visually appealing,warm,comfortable,reason...</td>\n",
       "      <td>NaN</td>\n",
       "      <td>visual appeal,comfort,food,cleanliness</td>\n",
       "    </tr>\n",
       "    <tr>\n",
       "      <th>78</th>\n",
       "      <td>2254</td>\n",
       "      <td>2</td>\n",
       "      <td>3</td>\n",
       "      <td>It's a good station with a convenient exit fro...</td>\n",
       "      <td>Алсу Р</td>\n",
       "      <td>5</td>\n",
       "      <td>2023-12-31T14:36:25.010Z</td>\n",
       "      <td>Vostochny</td>\n",
       "      <td>1</td>\n",
       "      <td>2.0</td>\n",
       "      <td>5.0</td>\n",
       "      <td>5.0</td>\n",
       "      <td>0.0</td>\n",
       "      <td>convenient exit from the metro,clean and well-...</td>\n",
       "      <td>not enough seating areas,no option to buy hot ...</td>\n",
       "      <td>metro,cleanliness,transport accessibility,seat...</td>\n",
       "    </tr>\n",
       "    <tr>\n",
       "      <th>79</th>\n",
       "      <td>2182</td>\n",
       "      <td>0</td>\n",
       "      <td>0</td>\n",
       "      <td>The station, of course, is not in the city cen...</td>\n",
       "      <td>Николай Бараненко</td>\n",
       "      <td>5</td>\n",
       "      <td>2023-12-09T05:49:33.192Z</td>\n",
       "      <td>Vostochny</td>\n",
       "      <td>1</td>\n",
       "      <td>2.0</td>\n",
       "      <td>0.0</td>\n",
       "      <td>0.0</td>\n",
       "      <td>0.0</td>\n",
       "      <td>new and convenient station,clearly indicated s...</td>\n",
       "      <td>NaN</td>\n",
       "      <td>convenience,signage,transport security staff</td>\n",
       "    </tr>\n",
       "  </tbody>\n",
       "</table>\n",
       "<p>80 rows × 16 columns</p>\n",
       "</div>"
      ],
      "text/plain": [
       "      id  ...                                               tags\n",
       "0   1300  ...                   location,transport,food,shopping\n",
       "1   1262  ...                                                NaN\n",
       "2   1299  ...  station building,accessibility,food,security,r...\n",
       "3   1298  ...      Aeroexpress,Sheremetyevo Airport,waiting room\n",
       "4   1296  ...  location,transport,shops,cafes,ticket offices,...\n",
       "..   ...  ...                                                ...\n",
       "75  2236  ...                         cleanliness,location,staff\n",
       "76  2229  ...                         convenience,infrastructure\n",
       "77  2170  ...             visual appeal,comfort,food,cleanliness\n",
       "78  2254  ...  metro,cleanliness,transport accessibility,seat...\n",
       "79  2182  ...       convenience,signage,transport security staff\n",
       "\n",
       "[80 rows x 16 columns]"
      ]
     },
     "execution_count": 28,
     "metadata": {},
     "output_type": "execute_result"
    }
   ],
   "source": [
    "df_sample = pd.read_csv('dataset_sample_with_GPT.csv')\n",
    "df_sample"
   ]
  },
  {
   "cell_type": "markdown",
   "id": "0ce15cff-f344-4945-a430-3b8779916874",
   "metadata": {},
   "source": [
    "## Making conclusions\n",
    "\n",
    "It is interesting to see if sentiment correlates between YandexGPT and HuggingFace model:"
   ]
  },
  {
   "cell_type": "code",
   "execution_count": 29,
   "id": "6d7fe528-9709-4c16-baf1-439c3a24208a",
   "metadata": {
    "execution": {
     "iopub.execute_input": "2025-07-12T10:17:44.753748Z",
     "iopub.status.busy": "2025-07-12T10:17:44.752790Z",
     "iopub.status.idle": "2025-07-12T10:17:45.088174Z",
     "shell.execute_reply": "2025-07-12T10:17:45.087346Z",
     "shell.execute_reply.started": "2025-07-12T10:17:44.753707Z"
    },
    "tags": []
   },
   "outputs": [
    {
     "data": {
      "text/plain": [
       "<sklearn.metrics._plot.confusion_matrix.ConfusionMatrixDisplay at 0x7f8ca4e51630>"
      ]
     },
     "execution_count": 29,
     "metadata": {},
     "output_type": "execute_result"
    },
    {
     "data": {
      "image/png": "[encoded data removed]",
      "text/plain": [
       "<Figure size 640x480 with 2 Axes>"
      ]
     },
     "metadata": {},
     "output_type": "display_data"
    }
   ],
   "source": [
    "from sklearn.metrics import ConfusionMatrixDisplay\n",
    "ConfusionMatrixDisplay.from_predictions(df_sample['hf_sentiment'],df_sample['sentiment'])"
   ]
  },
  {
   "cell_type": "markdown",
   "id": "0b959f88-c9c2-40d8-92b4-97e1dfd673a4",
   "metadata": {},
   "source": [
    "Let's see average sentiment by station:"
   ]
  },
  {
   "cell_type": "code",
   "execution_count": 30,
   "id": "d7b2c058-33ab-4bcf-9839-2f2e2b939762",
   "metadata": {
    "execution": {
     "iopub.execute_input": "2025-07-12T10:18:09.494340Z",
     "iopub.status.busy": "2025-07-12T10:18:09.493236Z",
     "iopub.status.idle": "2025-07-12T10:18:09.523299Z",
     "shell.execute_reply": "2025-07-12T10:18:09.521854Z",
     "shell.execute_reply.started": "2025-07-12T10:18:09.494297Z"
    },
    "tags": []
   },
   "outputs": [
    {
     "data": {
      "text/html": [
       "<div>\n",
       "<style scoped>\n",
       "    .dataframe tbody tr th:only-of-type {\n",
       "        vertical-align: middle;\n",
       "    }\n",
       "\n",
       "    .dataframe tbody tr th {\n",
       "        vertical-align: top;\n",
       "    }\n",
       "\n",
       "    .dataframe thead th {\n",
       "        text-align: right;\n",
       "    }\n",
       "</style>\n",
       "<table border=\"1\" class=\"dataframe\">\n",
       "  <thead>\n",
       "    <tr style=\"text-align: right;\">\n",
       "      <th></th>\n",
       "      <th>transport</th>\n",
       "      <th>cleanliness</th>\n",
       "      <th>schedule</th>\n",
       "    </tr>\n",
       "    <tr>\n",
       "      <th>station</th>\n",
       "      <th></th>\n",
       "      <th></th>\n",
       "      <th></th>\n",
       "    </tr>\n",
       "  </thead>\n",
       "  <tbody>\n",
       "    <tr>\n",
       "      <th>Belorussky</th>\n",
       "      <td>5.0</td>\n",
       "      <td>5.0</td>\n",
       "      <td>5.0</td>\n",
       "    </tr>\n",
       "    <tr>\n",
       "      <th>Kazan</th>\n",
       "      <td>4.4</td>\n",
       "      <td>4.4</td>\n",
       "      <td>NaN</td>\n",
       "    </tr>\n",
       "    <tr>\n",
       "      <th>Kursky</th>\n",
       "      <td>NaN</td>\n",
       "      <td>3.2</td>\n",
       "      <td>NaN</td>\n",
       "    </tr>\n",
       "    <tr>\n",
       "      <th>Kyiv</th>\n",
       "      <td>5.0</td>\n",
       "      <td>4.0</td>\n",
       "      <td>NaN</td>\n",
       "    </tr>\n",
       "    <tr>\n",
       "      <th>Paveletsky</th>\n",
       "      <td>5.0</td>\n",
       "      <td>3.0</td>\n",
       "      <td>NaN</td>\n",
       "    </tr>\n",
       "    <tr>\n",
       "      <th>Rizhsky</th>\n",
       "      <td>3.5</td>\n",
       "      <td>4.0</td>\n",
       "      <td>1.0</td>\n",
       "    </tr>\n",
       "    <tr>\n",
       "      <th>Savyolovsky</th>\n",
       "      <td>3.0</td>\n",
       "      <td>5.0</td>\n",
       "      <td>NaN</td>\n",
       "    </tr>\n",
       "    <tr>\n",
       "      <th>Vostochny</th>\n",
       "      <td>5.0</td>\n",
       "      <td>4.5</td>\n",
       "      <td>5.0</td>\n",
       "    </tr>\n",
       "  </tbody>\n",
       "</table>\n",
       "</div>"
      ],
      "text/plain": [
       "             transport  cleanliness  schedule\n",
       "station                                      \n",
       "Belorussky         5.0          5.0       5.0\n",
       "Kazan              4.4          4.4       NaN\n",
       "Kursky             NaN          3.2       NaN\n",
       "Kyiv               5.0          4.0       NaN\n",
       "Paveletsky         5.0          3.0       NaN\n",
       "Rizhsky            3.5          4.0       1.0\n",
       "Savyolovsky        3.0          5.0       NaN\n",
       "Vostochny          5.0          4.5       5.0"
      ]
     },
     "execution_count": 30,
     "metadata": {},
     "output_type": "execute_result"
    }
   ],
   "source": [
    "for f in [\"transport\",\"cleanliness\", \"schedule\"]:\n",
    "    df_sample[f] = df_sample[f].apply(lambda x: np.nan if x==0 else x)\n",
    "\n",
    "df_sample.groupby('station').agg( {'transport' : 'mean', 'cleanliness' : 'mean', 'schedule' : 'mean'})"
   ]
  },
  {
   "cell_type": "markdown",
   "id": "a68c6c21-ffa9-466e-a5c4-4d9369981a92",
   "metadata": {},
   "source": [
    "This can also be presented as a graph"
   ]
  },
  {
   "cell_type": "code",
   "execution_count": 31,
   "id": "1434056b-e339-43aa-8b38-b304a3d48a37",
   "metadata": {
    "execution": {
     "iopub.execute_input": "2025-07-12T10:18:30.098123Z",
     "iopub.status.busy": "2025-07-12T10:18:30.097358Z",
     "iopub.status.idle": "2025-07-12T10:18:30.393767Z",
     "shell.execute_reply": "2025-07-12T10:18:30.392905Z",
     "shell.execute_reply.started": "2025-07-12T10:18:30.098089Z"
    },
    "tags": []
   },
   "outputs": [
    {
     "data": {
      "text/plain": [
       "<Axes: xlabel='station'>"
      ]
     },
     "execution_count": 31,
     "metadata": {},
     "output_type": "execute_result"
    },
    {
     "data": {
      "image/png": "[encoded data removed]",
      "text/plain": [
       "<Figure size 640x480 with 1 Axes>"
      ]
     },
     "metadata": {},
     "output_type": "display_data"
    }
   ],
   "source": [
    "df_sample.groupby('station').agg(\n",
    "    {'transport' : 'mean', \n",
    "     'cleanliness' : 'mean', \n",
    "     'schedule' : 'mean'}).plot.bar()"
   ]
  },
  {
   "cell_type": "markdown",
   "id": "d4ba239f-8fc5-4c7e-835c-0c145b4ed277",
   "metadata": {},
   "source": [
    "Now let's see the tags:"
   ]
  },
  {
   "cell_type": "code",
   "execution_count": 32,
   "id": "3448133a-5627-44e6-86b5-2fb40daa6ffa",
   "metadata": {
    "execution": {
     "iopub.execute_input": "2025-07-12T10:18:44.550364Z",
     "iopub.status.busy": "2025-07-12T10:18:44.549353Z",
     "iopub.status.idle": "2025-07-12T10:18:44.578837Z",
     "shell.execute_reply": "2025-07-12T10:18:44.578028Z",
     "shell.execute_reply.started": "2025-07-12T10:18:44.550318Z"
    },
    "tags": []
   },
   "outputs": [
    {
     "data": {
      "text/plain": [
       "{'ATMs',\n",
       " 'Aeroexpress',\n",
       " 'Sheremetyevo Airport',\n",
       " 'Troika card',\n",
       " 'access',\n",
       " 'accessibility',\n",
       " 'amenities',\n",
       " 'architecture',\n",
       " 'atmosphere',\n",
       " 'beauty',\n",
       " 'boarding gates',\n",
       " 'boarding platforms',\n",
       " 'building',\n",
       " 'cafe',\n",
       " 'cafes',\n",
       " 'catering',\n",
       " 'charging options',\n",
       " 'cleanliness',\n",
       " 'closure',\n",
       " 'coffee',\n",
       " 'comfort',\n",
       " 'comfort lounge',\n",
       " 'connection',\n",
       " 'construction',\n",
       " 'convenience',\n",
       " 'coziness',\n",
       " 'cramped space',\n",
       " 'crowds',\n",
       " 'departure boards',\n",
       " 'design',\n",
       " 'discounts',\n",
       " 'eating place',\n",
       " 'elderly people',\n",
       " 'elevator',\n",
       " 'entertainment',\n",
       " 'exits',\n",
       " 'exits to the platforms',\n",
       " 'exterior',\n",
       " 'facilities',\n",
       " 'food',\n",
       " 'food courts',\n",
       " 'food options',\n",
       " 'friendly staff',\n",
       " 'history',\n",
       " 'hot drinks',\n",
       " 'hotel',\n",
       " 'improvement',\n",
       " 'improvements',\n",
       " 'information',\n",
       " 'information desk',\n",
       " 'infrastructure',\n",
       " 'infrastructure development',\n",
       " 'kiosks',\n",
       " 'layout',\n",
       " 'left-luggage locker',\n",
       " 'left-luggage office',\n",
       " 'left-luggage offices',\n",
       " 'location',\n",
       " 'logistics',\n",
       " 'management',\n",
       " 'memories',\n",
       " 'metro',\n",
       " 'metro access',\n",
       " 'modern infrastructure',\n",
       " 'modern station',\n",
       " 'museum',\n",
       " 'navigation',\n",
       " 'nearby attractions',\n",
       " 'order',\n",
       " 'organization',\n",
       " 'parking',\n",
       " 'passage',\n",
       " 'platform width',\n",
       " 'platforms',\n",
       " 'playground',\n",
       " 'police',\n",
       " 'prices',\n",
       " 'products',\n",
       " 'punctuality',\n",
       " 'queues',\n",
       " 'quiet',\n",
       " 'reconstruction',\n",
       " 'renovation',\n",
       " 'renovations',\n",
       " 'rest areas',\n",
       " 'restroom',\n",
       " 'restrooms',\n",
       " 'safety',\n",
       " 'seating areas',\n",
       " 'security',\n",
       " 'security checks',\n",
       " 'security guard',\n",
       " 'security guards',\n",
       " 'security staff',\n",
       " 'service',\n",
       " 'services',\n",
       " 'shopping',\n",
       " 'shops',\n",
       " 'signage',\n",
       " 'signposts',\n",
       " 'size',\n",
       " 'skiing',\n",
       " 'sleep capsule',\n",
       " 'smoking',\n",
       " 'space',\n",
       " 'staff',\n",
       " 'station building',\n",
       " 'station condition',\n",
       " 'station employees',\n",
       " 'surroundings',\n",
       " 'ticket exchange',\n",
       " 'ticket office',\n",
       " 'ticket offices',\n",
       " 'toilet',\n",
       " 'toilets',\n",
       " 'train',\n",
       " 'train route',\n",
       " 'train schedule',\n",
       " 'transfers',\n",
       " 'transport',\n",
       " 'transport accessibility',\n",
       " 'transport interchange',\n",
       " 'transport security staff',\n",
       " 'transport services',\n",
       " 'transportation',\n",
       " 'turnstile',\n",
       " 'validator',\n",
       " 'vending machines',\n",
       " 'visual appeal',\n",
       " 'waiting area',\n",
       " 'waiting room',\n",
       " 'waiting rooms',\n",
       " 'weather',\n",
       " 'weekend getaway'}"
      ]
     },
     "execution_count": 32,
     "metadata": {},
     "output_type": "execute_result"
    }
   ],
   "source": [
    "tags = list(df_sample['tags'].apply(lambda x: str(x).split(',')))\n",
    "tags = set(sum(tags,[])) - { 'nan', '' }\n",
    "tags"
   ]
  },
  {
   "cell_type": "markdown",
   "id": "2dbb2541-8dea-46af-b30f-2c690f16aaeb",
   "metadata": {},
   "source": [
    "It would be useful to define `tag_lookup` function, which will extract only tag that we are interested in:"
   ]
  },
  {
   "cell_type": "code",
   "execution_count": 33,
   "id": "f55446ac-59d1-4a6f-8f53-2d696763f76c",
   "metadata": {
    "execution": {
     "iopub.execute_input": "2025-07-12T10:19:19.971887Z",
     "iopub.status.busy": "2025-07-12T10:19:19.970834Z",
     "iopub.status.idle": "2025-07-12T10:19:20.015939Z",
     "shell.execute_reply": "2025-07-12T10:19:20.014906Z",
     "shell.execute_reply.started": "2025-07-12T10:19:19.971840Z"
    },
    "tags": []
   },
   "outputs": [
    {
     "data": {
      "text/html": [
       "<div>\n",
       "<style scoped>\n",
       "    .dataframe tbody tr th:only-of-type {\n",
       "        vertical-align: middle;\n",
       "    }\n",
       "\n",
       "    .dataframe tbody tr th {\n",
       "        vertical-align: top;\n",
       "    }\n",
       "\n",
       "    .dataframe thead th {\n",
       "        text-align: right;\n",
       "    }\n",
       "</style>\n",
       "<table border=\"1\" class=\"dataframe\">\n",
       "  <thead>\n",
       "    <tr style=\"text-align: right;\">\n",
       "      <th></th>\n",
       "      <th>station</th>\n",
       "      <th>review_text</th>\n",
       "    </tr>\n",
       "  </thead>\n",
       "  <tbody>\n",
       "    <tr>\n",
       "      <th>0</th>\n",
       "      <td>Belorussky</td>\n",
       "      <td>It's conveniently located, there are storage l...</td>\n",
       "    </tr>\n",
       "    <tr>\n",
       "      <th>2</th>\n",
       "      <td>Belorussky</td>\n",
       "      <td>The station building itself is beautiful. Ther...</td>\n",
       "    </tr>\n",
       "    <tr>\n",
       "      <th>25</th>\n",
       "      <td>Kursky</td>\n",
       "      <td>How can one evaluate a train station? Well, pr...</td>\n",
       "    </tr>\n",
       "    <tr>\n",
       "      <th>30</th>\n",
       "      <td>Kyiv</td>\n",
       "      <td>Kievsky Station — the prices are crazy.\\nThe t...</td>\n",
       "    </tr>\n",
       "    <tr>\n",
       "      <th>40</th>\n",
       "      <td>Paveletsky</td>\n",
       "      <td>A large old building that looks very majestic....</td>\n",
       "    </tr>\n",
       "    <tr>\n",
       "      <th>43</th>\n",
       "      <td>Paveletsky</td>\n",
       "      <td>It's not a very cozy place to wait. Everything...</td>\n",
       "    </tr>\n",
       "    <tr>\n",
       "      <th>45</th>\n",
       "      <td>Paveletsky</td>\n",
       "      <td>My dear beloved station is so convenient for c...</td>\n",
       "    </tr>\n",
       "    <tr>\n",
       "      <th>49</th>\n",
       "      <td>Paveletsky</td>\n",
       "      <td>The station building is beautiful, and the sur...</td>\n",
       "    </tr>\n",
       "    <tr>\n",
       "      <th>61</th>\n",
       "      <td>Savyolovsky</td>\n",
       "      <td>The station is convenient, there are many plac...</td>\n",
       "    </tr>\n",
       "    <tr>\n",
       "      <th>64</th>\n",
       "      <td>Savyolovsky</td>\n",
       "      <td>There's nothing special. You can wait for the ...</td>\n",
       "    </tr>\n",
       "    <tr>\n",
       "      <th>77</th>\n",
       "      <td>Vostochny</td>\n",
       "      <td>A new and slightly unconventional station! I r...</td>\n",
       "    </tr>\n",
       "  </tbody>\n",
       "</table>\n",
       "</div>"
      ],
      "text/plain": [
       "        station                                        review_text\n",
       "0    Belorussky  It's conveniently located, there are storage l...\n",
       "2    Belorussky  The station building itself is beautiful. Ther...\n",
       "25       Kursky  How can one evaluate a train station? Well, pr...\n",
       "30         Kyiv  Kievsky Station — the prices are crazy.\\nThe t...\n",
       "40   Paveletsky  A large old building that looks very majestic....\n",
       "43   Paveletsky  It's not a very cozy place to wait. Everything...\n",
       "45   Paveletsky  My dear beloved station is so convenient for c...\n",
       "49   Paveletsky  The station building is beautiful, and the sur...\n",
       "61  Savyolovsky  The station is convenient, there are many plac...\n",
       "64  Savyolovsky  There's nothing special. You can wait for the ...\n",
       "77    Vostochny  A new and slightly unconventional station! I r..."
      ]
     },
     "execution_count": 33,
     "metadata": {},
     "output_type": "execute_result"
    }
   ],
   "source": [
    "def tag_lookup(tag):\n",
    "    return df_sample[df_sample['tags'].apply(lambda x: tag in str(x))]\n",
    "\n",
    "tag_lookup('food')[['station','review_text']]"
   ]
  },
  {
   "cell_type": "markdown",
   "id": "59c7eb6a-30ab-41f7-aa43-9f0a31dbc9e4",
   "metadata": {},
   "source": [
    "Which stations has the museum?"
   ]
  },
  {
   "cell_type": "code",
   "execution_count": 34,
   "id": "3acf7739-782b-47b7-9e9f-94236f74c1ce",
   "metadata": {
    "execution": {
     "iopub.execute_input": "2025-07-12T10:19:27.831461Z",
     "iopub.status.busy": "2025-07-12T10:19:27.830374Z",
     "iopub.status.idle": "2025-07-12T10:19:27.853787Z",
     "shell.execute_reply": "2025-07-12T10:19:27.852963Z",
     "shell.execute_reply.started": "2025-07-12T10:19:27.831428Z"
    },
    "tags": []
   },
   "outputs": [
    {
     "data": {
      "text/html": [
       "<div>\n",
       "<style scoped>\n",
       "    .dataframe tbody tr th:only-of-type {\n",
       "        vertical-align: middle;\n",
       "    }\n",
       "\n",
       "    .dataframe tbody tr th {\n",
       "        vertical-align: top;\n",
       "    }\n",
       "\n",
       "    .dataframe thead th {\n",
       "        text-align: right;\n",
       "    }\n",
       "</style>\n",
       "<table border=\"1\" class=\"dataframe\">\n",
       "  <thead>\n",
       "    <tr style=\"text-align: right;\">\n",
       "      <th></th>\n",
       "      <th>station</th>\n",
       "      <th>review_text</th>\n",
       "    </tr>\n",
       "  </thead>\n",
       "  <tbody>\n",
       "    <tr>\n",
       "      <th>53</th>\n",
       "      <td>Rizhsky</td>\n",
       "      <td>A station from which trains almost never depar...</td>\n",
       "    </tr>\n",
       "  </tbody>\n",
       "</table>\n",
       "</div>"
      ],
      "text/plain": [
       "    station                                        review_text\n",
       "53  Rizhsky  A station from which trains almost never depar..."
      ]
     },
     "execution_count": 34,
     "metadata": {},
     "output_type": "execute_result"
    }
   ],
   "source": [
    "tag_lookup('museum')[['station','review_text']]"
   ]
  },
  {
   "cell_type": "markdown",
   "id": "c2acbb8d-3d06-403f-a190-99d956338a0b",
   "metadata": {},
   "source": [
    "## Summarizing feedback"
   ]
  },
  {
   "cell_type": "markdown",
   "id": "c25fb369-8bd9-4b1e-8acc-b20b29334731",
   "metadata": {},
   "source": [
    "To obtain natural-language feedback for each station, we will concatenate `positive` and `negative` points for each station:"
   ]
  },
  {
   "cell_type": "code",
   "execution_count": 35,
   "id": "5becbff0-cafd-4c25-81e7-1f50b46eb2ba",
   "metadata": {
    "execution": {
     "iopub.execute_input": "2025-07-12T10:20:31.225531Z",
     "iopub.status.busy": "2025-07-12T10:20:31.224582Z",
     "iopub.status.idle": "2025-07-12T10:20:31.256834Z",
     "shell.execute_reply": "2025-07-12T10:20:31.256082Z",
     "shell.execute_reply.started": "2025-07-12T10:20:31.225492Z"
    },
    "tags": []
   },
   "outputs": [
    {
     "data": {
      "text/html": [
       "<div>\n",
       "<style scoped>\n",
       "    .dataframe tbody tr th:only-of-type {\n",
       "        vertical-align: middle;\n",
       "    }\n",
       "\n",
       "    .dataframe tbody tr th {\n",
       "        vertical-align: top;\n",
       "    }\n",
       "\n",
       "    .dataframe thead th {\n",
       "        text-align: right;\n",
       "    }\n",
       "</style>\n",
       "<table border=\"1\" class=\"dataframe\">\n",
       "  <thead>\n",
       "    <tr style=\"text-align: right;\">\n",
       "      <th></th>\n",
       "      <th>station</th>\n",
       "      <th>positive</th>\n",
       "      <th>negative</th>\n",
       "    </tr>\n",
       "  </thead>\n",
       "  <tbody>\n",
       "    <tr>\n",
       "      <th>0</th>\n",
       "      <td>Belorussky</td>\n",
       "      <td>convenient location,storage lockers,cheap meal...</td>\n",
       "      <td>expensive prices at GUM,almost no people at GU...</td>\n",
       "    </tr>\n",
       "    <tr>\n",
       "      <th>1</th>\n",
       "      <td>Kazan</td>\n",
       "      <td>well-organized security checks,easy access to ...</td>\n",
       "      <td>difficult to get to the station by taxi,traffi...</td>\n",
       "    </tr>\n",
       "    <tr>\n",
       "      <th>2</th>\n",
       "      <td>Kursky</td>\n",
       "      <td>the station is good, good and clean restrooms,...</td>\n",
       "      <td>Russian Railways took all the trains away,the ...</td>\n",
       "    </tr>\n",
       "    <tr>\n",
       "      <th>3</th>\n",
       "      <td>Kyiv</td>\n",
       "      <td>shopping center nearby,Perekrestok supermarket...</td>\n",
       "      <td>crazy prices,toilet is so-so, can't say anythi...</td>\n",
       "    </tr>\n",
       "    <tr>\n",
       "      <th>4</th>\n",
       "      <td>Paveletsky</td>\n",
       "      <td>majestic building,many shopping pavilions,diff...</td>\n",
       "      <td>dirty,lack of sanitation,homeless people are a...</td>\n",
       "    </tr>\n",
       "    <tr>\n",
       "      <th>5</th>\n",
       "      <td>Rizhsky</td>\n",
       "      <td>clean,convenient transportation hub, train mus...</td>\n",
       "      <td>not located near the subway,need to walk along...</td>\n",
       "    </tr>\n",
       "    <tr>\n",
       "      <th>6</th>\n",
       "      <td>Savyolovsky</td>\n",
       "      <td>comfortable train,cool tourist base,skiing, co...</td>\n",
       "      <td>slippery tiles at the turnstiles,risk of falli...</td>\n",
       "    </tr>\n",
       "    <tr>\n",
       "      <th>7</th>\n",
       "      <td>Vostochny</td>\n",
       "      <td>convenient and easy-to-understand station,many...</td>\n",
       "      <td>platform width is a bit narrow, cramped space,...</td>\n",
       "    </tr>\n",
       "  </tbody>\n",
       "</table>\n",
       "</div>"
      ],
      "text/plain": [
       "       station  ...                                           negative\n",
       "0   Belorussky  ...  expensive prices at GUM,almost no people at GU...\n",
       "1        Kazan  ...  difficult to get to the station by taxi,traffi...\n",
       "2       Kursky  ...  Russian Railways took all the trains away,the ...\n",
       "3         Kyiv  ...  crazy prices,toilet is so-so, can't say anythi...\n",
       "4   Paveletsky  ...  dirty,lack of sanitation,homeless people are a...\n",
       "5      Rizhsky  ...  not located near the subway,need to walk along...\n",
       "6  Savyolovsky  ...  slippery tiles at the turnstiles,risk of falli...\n",
       "7    Vostochny  ...  platform width is a bit narrow, cramped space,...\n",
       "\n",
       "[8 rows x 3 columns]"
      ]
     },
     "execution_count": 35,
     "metadata": {},
     "output_type": "execute_result"
    }
   ],
   "source": [
    "join = lambda x : ', '.join([t for t in x if isinstance(t,str) and len(t)>0])\n",
    "\n",
    "df_stations = df_sample.groupby('station').agg({ 'positive' : join, 'negative' : join }).reset_index()\n",
    "df_stations"
   ]
  },
  {
   "cell_type": "markdown",
   "id": "020f0c5e-8850-4af1-be8e-115793348430",
   "metadata": {
    "execution": {
     "iopub.execute_input": "2024-05-22T22:49:16.088187Z",
     "iopub.status.busy": "2024-05-22T22:49:16.087032Z",
     "iopub.status.idle": "2024-05-22T22:49:16.100318Z",
     "shell.execute_reply": "2024-05-22T22:49:16.099308Z",
     "shell.execute_reply.started": "2024-05-22T22:49:16.088138Z"
    }
   },
   "source": [
    "We can now use LLM to summarize this:"
   ]
  },
  {
   "cell_type": "code",
   "execution_count": 36,
   "id": "d7180f20-7d9e-466c-8068-6d4e2a442fb5",
   "metadata": {
    "execution": {
     "iopub.execute_input": "2025-07-12T10:21:18.539315Z",
     "iopub.status.busy": "2025-07-12T10:21:18.538494Z",
     "iopub.status.idle": "2025-07-12T10:21:46.695911Z",
     "shell.execute_reply": "2025-07-12T10:21:46.695016Z",
     "shell.execute_reply.started": "2025-07-12T10:21:18.539275Z"
    },
    "tags": []
   },
   "outputs": [],
   "source": [
    "prompt_sum = \"\"\"\n",
    "Please read the list of reviews for a railway station and summarize all that in a few paragraphs of text. Reviews: ```{}```\n",
    "\"\"\"\n",
    "\n",
    "def summarize(x):\n",
    "    res = gpt(prompt_sum.format(x))\n",
    "    return res\n",
    "\n",
    "df_stations['pos_summary'] = df_stations['positive'].apply(summarize)\n",
    "df_stations['neg_summary'] = df_stations['negative'].apply(summarize)"
   ]
  },
  {
   "cell_type": "code",
   "execution_count": 37,
   "id": "300e04fe-4d85-4862-8e45-7a2227e6c097",
   "metadata": {
    "execution": {
     "iopub.execute_input": "2025-07-12T10:21:46.698065Z",
     "iopub.status.busy": "2025-07-12T10:21:46.697224Z",
     "iopub.status.idle": "2025-07-12T10:21:46.817399Z",
     "shell.execute_reply": "2025-07-12T10:21:46.816612Z",
     "shell.execute_reply.started": "2025-07-12T10:21:46.698027Z"
    },
    "tags": []
   },
   "outputs": [
    {
     "data": {
      "text/html": [
       "<div>\n",
       "<style scoped>\n",
       "    .dataframe tbody tr th:only-of-type {\n",
       "        vertical-align: middle;\n",
       "    }\n",
       "\n",
       "    .dataframe tbody tr th {\n",
       "        vertical-align: top;\n",
       "    }\n",
       "\n",
       "    .dataframe thead th {\n",
       "        text-align: right;\n",
       "    }\n",
       "</style>\n",
       "<table border=\"1\" class=\"dataframe\">\n",
       "  <thead>\n",
       "    <tr style=\"text-align: right;\">\n",
       "      <th></th>\n",
       "      <th>station</th>\n",
       "      <th>pos_summary</th>\n",
       "      <th>neg_summary</th>\n",
       "    </tr>\n",
       "  </thead>\n",
       "  <tbody>\n",
       "    <tr>\n",
       "      <th>0</th>\n",
       "      <td>Belorussky</td>\n",
       "      <td>The railway station is praised for its convenient location, easy access to the city center, and proximity to public transport options such as the metro and Aeroexpress. It offers quick and convenient access to Sheremetyevo Airport. The station building is described as beautiful, with interesting and old architecture.\\n\\nThe station provides a range of amenities, including storage lockers, a variety of cafes and food outlets, shops, ticket offices, vending machines, ATMs, and restrooms. There are also separate areas for passenger flows, ensuring convenience and safety. The station is accessible to people with disabilities, and there are security services on site.\\n\\nOverall, the railway station is described as convenient, comfortable, and easy to use, with modern facilities and a well-organized layout.</td>\n",
       "      <td>The railway station is currently undergoing renovations, which are causing some temporary inconveniences for passengers. One of the issues mentioned is the long queues at the ticket offices, which can be time-consuming. Additionally, the layout of the station is not very modern and may not be comfortable for people waiting for their trains, partly because the halls are rather small.\\n\\nThere are also specific complaints about the GUM area, such as expensive prices and a lack of people there. The transfer to the Aeroexpress is described as inconvenient. Furthermore, many people smoke on the platforms, which may affect the comfort of non-smokers. Overall, while improvements are being made, they are currently causing some disruptions to the passenger experience.</td>\n",
       "    </tr>\n",
       "    <tr>\n",
       "      <th>1</th>\n",
       "      <td>Kazan</td>\n",
       "      <td>The railway station is praised for its well-organized security checks and easy access to trains. The station features clear signage and departure boards, along with announcements, ensuring that travelers receive good information. The building itself is described as beautiful, clean, and tidy, with a calm and magical atmosphere.\\n\\nThe station offers a variety of amenities, including cafes for breakfast, shops with a wide range of products and discounts, ATMs, and convenient left-luggage offices. Spacious waiting rooms with benches featuring USB ports provide comfort for travelers. Additionally, the station has convenient exits, platforms, and routes, making it quick and easy to navigate.\\n\\nThe railway station's convenient location is highlighted, with easy access for taxis and available parking. Overall, the friendly staff, cleanliness, and logical layout contribute to a positive experience for passengers.</td>\n",
       "      <td>The railway station faces several issues that affect passenger experience. Accessibility is a significant concern, with difficulties in reaching the station by taxi and traffic jams adding to the inconvenience. Once inside, passengers find limited space to rest, with few seating areas available. The presence of drunk individuals in the cafe creates an uncomfortable atmosphere.\\n\\nFacilities are also lacking; queues are long, especially around the toilets, and the station's age shows in its outdated layout. Commercial spaces further reduce the already limited area, contributing to overcrowding. Additional problems include restricted access to platforms, with not all exits open, and difficulties in navigating stairs with suitcases due to the lack of escalators. Overall, the station requires improvements to enhance passenger comfort and convenience.</td>\n",
       "    </tr>\n",
       "    <tr>\n",
       "      <th>2</th>\n",
       "      <td>Kursky</td>\n",
       "      <td>The railway station receives positive feedback from its visitors. They appreciate the cleanliness of the restrooms and the helpfulness of the staff. The navigation is clear, which makes it easy to find one's way around. The location of the food courts is convenient, and there are no crowds, which contributes to a pleasant atmosphere. The waiting room is nice, and overall, passengers have a positive experience when using the station.</td>\n",
       "      <td>The railway station is currently undergoing renovation, which has led to various inconveniences for passengers. Some of the main issues include blocked-off areas, making it difficult to navigate, especially when carrying suitcases or strollers. The elevator is not always working, adding to the inconvenience.\\n\\nThe station has become run-down, with many shops closed and no express delivery services available. The staff at the windows are unhelpful, and there are complaints about the administrator in window 8 not obeying the station manager.\\n\\nPassengers also report problems with facilities, such as toilets being always occupied and lacking paper. There are issues with cleanliness, as the cleaner is tidying up and it still stinks in the morning, and homeless people are sleeping in the waiting room.\\n\\nOverall, the station is described as outdated, cold, and uncozy, with a risk of missing your train due to the difficulties in navigating the station and the challenges of reaching certain platforms.</td>\n",
       "    </tr>\n",
       "    <tr>\n",
       "      <th>3</th>\n",
       "      <td>Kyiv</td>\n",
       "      <td>The railway station is praised for its convenient location, with a shopping center, Perekrestok supermarket, and metro station nearby. It also offers easy access for pedestrians and has a designated area for taxis, making it a convenient transport interchange.\\n\\nThe station building is described as beautiful, both inside and out, with an intuitive layout that makes it easy to navigate. There are comfortable chairs in the waiting room, clean and comfortable restrooms, and chargers near the seats. The staff, including security and police officers, are friendly and helpful.\\n\\nAdditional amenities include a variety of cafes, convenient parking, and an Aeroexpress service to Vnukovo. The station also features a playground, a train simulator, and large tablets with transportation programs, making it a family-friendly and informative place to visit.</td>\n",
       "      <td>The reviews of the railway station highlight several issues that need attention. Customers have complained about high prices and an average quality toilet. The lack of clear signposting has led to confusion, with some customers having to walk through the entire station to find out that only the cinema was open. There are also complaints about long lines due to only a few windows being open, making it difficult to get assistance or exchange tickets. Additionally, customers have faced difficulties in contacting the senior cashier and exchanging tickets through the app. Overall, the reviews suggest that the railway station needs to improve its services and facilities to enhance customer satisfaction.</td>\n",
       "    </tr>\n",
       "    <tr>\n",
       "      <th>4</th>\n",
       "      <td>Paveletsky</td>\n",
       "      <td>The railway station is described as a majestic and beautiful building with a well-maintained surrounding area. It has a convenient location close to the metro, making it easy to access and ideal for transport interchange. There are numerous ticket offices and machines for buying tickets, as well as many shops, including souvenir shops and a pharmacy. The station also features a variety of food outlets, from places to grab a bite to eat to a large food court in an underground shopping center.\\n\\nThe station provides convenient services such as automatic left-luggage lockers and an inexpensive left-luggage office. It has clean and well-maintained facilities, including toilets and a comfortable waiting room. The staff is described as polite, competent, and friendly, always ready to provide helpful advice. The station is modern, functional, and easy to navigate, with clear signs and convenient exits to the platforms. Additionally, there are various transport options nearby, including taxi ranks, bus stops, and an Aeroexpress to Domodedovo Airport.</td>\n",
       "      <td>The railway station has received several negative reviews from its visitors. Some passengers have complained about the poor hygiene conditions, including a lack of sanitation, unpleasant smell in the waiting room, and dirty and unclean restrooms, particularly the women's restroom. The station has also been described as old-fashioned, gloomy, and not very cozy for waiting passengers.\\n\\nAdditionally, some reviewers have noted that the station allows homeless people to enter freely, which may contribute to the overall atmosphere and cleanliness issues. The trains running on suburban routes are old, and there are no grocery stores in the area. Furthermore, the Paveletsk Plaza complex has been criticized for its high prices.\\n\\nOverall, the railway station needs improvement in terms of cleanliness, modernization, and amenities to provide a more pleasant experience for its passengers.</td>\n",
       "    </tr>\n",
       "    <tr>\n",
       "      <th>5</th>\n",
       "      <td>Rizhsky</td>\n",
       "      <td>The railway station is described as a clean and convenient transportation hub with a well-organized layout, including easy-to-understand platforms and convenient ticket offices. It is praised for its beauty and architectural value, making it a unique place to visit. \\n\\nThe station offers various amenities, such as a train museum for children and an open-air museum of railway machinery, providing interesting attractions for passengers. There are also many cafes and fast food restaurants available for those who wish to spend some extra time at the station. \\n\\nAdditionally, the station is noted for its quiet atmosphere, which creates a feeling of calm and safety. Overall, the railway station is considered to be large, comfortable, and well-maintained, with a good location and renovations that have improved its facilities.</td>\n",
       "      <td>The railway station has several issues that affect its functionality and convenience for passengers. It is not located near the subway, and there is no parking nearby, which makes it less accessible. Passengers have to walk along a long passage to reach the station. \\n\\nAdditionally, the station is currently closed to passengers, and commuter trains run without stopping there, rendering it useless for its original purpose. There are also problems with unclear train routes and unexpected money deductions from the Troika card. \\n\\nThe station employees are described as unhelpful, and the facilities, such as ticket offices and toilets, are not always welcoming or clean. Constant renovations further contribute to the inconvenience experienced by passengers.</td>\n",
       "    </tr>\n",
       "    <tr>\n",
       "      <th>6</th>\n",
       "      <td>Savyolovsky</td>\n",
       "      <td>The railway station is described as a comfortable and convenient place with spacious and clean platforms. Visitors can enjoy a visually appealing and calm atmosphere, thanks to the recent renovation and beautiful landscaping. The station is easy to navigate, and there are many places to have a snack or a cup of coffee, including a KFC. \\n\\nAdditionally, the station has a helpful information desk, friendly and neat security guards, and friendly local residents. Other amenities include free toilets and various shops. Overall, the railway station offers a pleasant and convenient experience for travelers.</td>\n",
       "      <td>The railway station has several issues that need to be addressed. One of the main problems is the slippery tiles at the turnstiles, which pose a risk of falling for passengers. Additionally, there are complaints about the catering service, with some passengers feeling that it could be improved. The only café on the first floor has been closed for renovation, which may inconvenience passengers looking for refreshments.\\n\\nAccessing the ticket office is also difficult, causing inconvenience, especially for elderly people. There have been complaints about poor treatment of federal beneficiaries and rude security guards, which can create a negative atmosphere at the station. Overall, these issues suggest that the railway station could benefit from improvements in facilities, services, and staff behavior to enhance the passenger experience.</td>\n",
       "    </tr>\n",
       "    <tr>\n",
       "      <th>7</th>\n",
       "      <td>Vostochny</td>\n",
       "      <td>The railway station is described as modern, convenient, and well-maintained. It has clear signage that is easy to read, which makes navigating the station simple. The staff is polite and friendly, and the security measures are strict.\\n\\nThe station offers convenient access to the metro, as well as easy access for cars and taxis. There are coffee points available, and the prices for food are reasonable. The waiting areas, restrooms, and toilets are clean.\\n\\nAdditional amenities include a premium comfort lounge with sleep capsules that offer a full meal, drinks, and a massage chair. The capsules are spacious and have adjustable ventilation systems, clean bedding, and even a small gift — a travel kit.\\n\\nOverall, the railway station is praised for its convenience, modern design, and excellent facilities.</td>\n",
       "      <td>The railway station has some areas that could be improved based on customer feedback. Passengers have noted that the platform width is a bit narrow, leading to cramped spaces during peak times. Additionally, there is a lack of cleanliness as some visitors do not clean up after themselves. The station also lacks sufficient seating areas, which can be inconvenient for travelers. Furthermore, there is no option to buy hot coffee in the winter, which could be a welcome amenity for passengers during colder months.</td>\n",
       "    </tr>\n",
       "  </tbody>\n",
       "</table>\n",
       "</div>"
      ],
      "text/plain": [
       "       station  ...                                                                                                                                                                                                                                                                                                                                                                                                                                                                                                                                                                                                                                                                                                                                                                                                                                                                                                                                                                                                                                          neg_summary\n",
       "0  Belorussky   ...  The railway station is currently undergoing renovations, which are causing some temporary inconveniences for passengers. One of the issues mentioned is the long queues at the ticket offices, which can be time-consuming. Additionally, the layout of the station is not very modern and may not be comfortable for people waiting for their trains, partly because the halls are rather small.\\n\\nThere are also specific complaints about the GUM area, such as expensive prices and a lack of people there. The transfer to the Aeroexpress is described as inconvenient. Furthermore, many people smoke on the platforms, which may affect the comfort of non-smokers. Overall, while improvements are being made, they are currently causing some disruptions to the passenger experience.                                                                                                                                                                                                                                                  \n",
       "1  Kazan        ...  The railway station faces several issues that affect passenger experience. Accessibility is a significant concern, with difficulties in reaching the station by taxi and traffic jams adding to the inconvenience. Once inside, passengers find limited space to rest, with few seating areas available. The presence of drunk individuals in the cafe creates an uncomfortable atmosphere.\\n\\nFacilities are also lacking; queues are long, especially around the toilets, and the station's age shows in its outdated layout. Commercial spaces further reduce the already limited area, contributing to overcrowding. Additional problems include restricted access to platforms, with not all exits open, and difficulties in navigating stairs with suitcases due to the lack of escalators. Overall, the station requires improvements to enhance passenger comfort and convenience.                                                                                                                                                         \n",
       "2  Kursky       ...  The railway station is currently undergoing renovation, which has led to various inconveniences for passengers. Some of the main issues include blocked-off areas, making it difficult to navigate, especially when carrying suitcases or strollers. The elevator is not always working, adding to the inconvenience.\\n\\nThe station has become run-down, with many shops closed and no express delivery services available. The staff at the windows are unhelpful, and there are complaints about the administrator in window 8 not obeying the station manager.\\n\\nPassengers also report problems with facilities, such as toilets being always occupied and lacking paper. There are issues with cleanliness, as the cleaner is tidying up and it still stinks in the morning, and homeless people are sleeping in the waiting room.\\n\\nOverall, the station is described as outdated, cold, and uncozy, with a risk of missing your train due to the difficulties in navigating the station and the challenges of reaching certain platforms.\n",
       "3  Kyiv         ...  The reviews of the railway station highlight several issues that need attention. Customers have complained about high prices and an average quality toilet. The lack of clear signposting has led to confusion, with some customers having to walk through the entire station to find out that only the cinema was open. There are also complaints about long lines due to only a few windows being open, making it difficult to get assistance or exchange tickets. Additionally, customers have faced difficulties in contacting the senior cashier and exchanging tickets through the app. Overall, the reviews suggest that the railway station needs to improve its services and facilities to enhance customer satisfaction.                                                                                                                                                                                                                                                                                                                 \n",
       "4  Paveletsky   ...  The railway station has received several negative reviews from its visitors. Some passengers have complained about the poor hygiene conditions, including a lack of sanitation, unpleasant smell in the waiting room, and dirty and unclean restrooms, particularly the women's restroom. The station has also been described as old-fashioned, gloomy, and not very cozy for waiting passengers.\\n\\nAdditionally, some reviewers have noted that the station allows homeless people to enter freely, which may contribute to the overall atmosphere and cleanliness issues. The trains running on suburban routes are old, and there are no grocery stores in the area. Furthermore, the Paveletsk Plaza complex has been criticized for its high prices.\\n\\nOverall, the railway station needs improvement in terms of cleanliness, modernization, and amenities to provide a more pleasant experience for its passengers.                                                                                                                       \n",
       "5  Rizhsky      ...  The railway station has several issues that affect its functionality and convenience for passengers. It is not located near the subway, and there is no parking nearby, which makes it less accessible. Passengers have to walk along a long passage to reach the station. \\n\\nAdditionally, the station is currently closed to passengers, and commuter trains run without stopping there, rendering it useless for its original purpose. There are also problems with unclear train routes and unexpected money deductions from the Troika card. \\n\\nThe station employees are described as unhelpful, and the facilities, such as ticket offices and toilets, are not always welcoming or clean. Constant renovations further contribute to the inconvenience experienced by passengers.                                                                                                                                                                                                                                                        \n",
       "6  Savyolovsky  ...  The railway station has several issues that need to be addressed. One of the main problems is the slippery tiles at the turnstiles, which pose a risk of falling for passengers. Additionally, there are complaints about the catering service, with some passengers feeling that it could be improved. The only café on the first floor has been closed for renovation, which may inconvenience passengers looking for refreshments.\\n\\nAccessing the ticket office is also difficult, causing inconvenience, especially for elderly people. There have been complaints about poor treatment of federal beneficiaries and rude security guards, which can create a negative atmosphere at the station. Overall, these issues suggest that the railway station could benefit from improvements in facilities, services, and staff behavior to enhance the passenger experience.                                                                                                                                                                    \n",
       "7  Vostochny    ...  The railway station has some areas that could be improved based on customer feedback. Passengers have noted that the platform width is a bit narrow, leading to cramped spaces during peak times. Additionally, there is a lack of cleanliness as some visitors do not clean up after themselves. The station also lacks sufficient seating areas, which can be inconvenient for travelers. Furthermore, there is no option to buy hot coffee in the winter, which could be a welcome amenity for passengers during colder months.                                                                                                                                                                                                                                                                                                                                                                                                                                                                                                                 \n",
       "\n",
       "[8 rows x 3 columns]"
      ]
     },
     "metadata": {},
     "output_type": "display_data"
    }
   ],
   "source": [
    "from IPython.display import display\n",
    "with pd.option_context('display.max_colwidth', 0):\n",
    "    display(df_stations[['station','pos_summary','neg_summary']])"
   ]
  },
  {
   "cell_type": "markdown",
   "id": "a62b4ef9-172a-46fa-81df-fba33ec05b47",
   "metadata": {},
   "source": [
    "## Takeaway\n",
    "\n",
    "Yandex Cloud allows you to use GPU to run pre-trained models, as well as to perform your own training. You can also use existing services and fundamental models, which can also be fine-tuned for your specific tasks."
   ]
  },
  {
   "cell_type": "code",
   "execution_count": null,
   "id": "c2bdf8ed-3a19-43a9-b7c8-a559fed4ee69",
   "metadata": {},
   "outputs": [],
   "source": []
  }
 ],
 "metadata": {
  "kernelspec": {
   "display_name": "DataSphere Kernel",
   "language": "python",
   "name": "python3"
  },
  "language_info": {
   "codemirror_mode": {
    "name": "ipython",
    "version": 3
   },
   "file_extension": ".py",
   "mimetype": "text/x-python",
   "name": "python",
   "nbconvert_exporter": "python",
   "pygments_lexer": "ipython3",
   "version": "3.10.12"
  }
 },
 "nbformat": 4,
 "nbformat_minor": 5
}
